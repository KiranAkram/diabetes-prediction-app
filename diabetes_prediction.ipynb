{
 "cells": [
  {
   "cell_type": "code",
   "execution_count": null,
   "id": "418b749b-90ca-4ca0-83cd-9be1292df92a",
   "metadata": {},
   "outputs": [],
   "source": []
  },
  {
   "cell_type": "markdown",
   "id": "cee444b8-f977-46b1-948e-976759c87059",
   "metadata": {},
   "source": [
    "This Jupyter Notebook explores diabetes prediction through a machine learning model using a dataset with health metrics and lifestyle factors. Exploratory data analysis reveals relationships between features and diabetes likelihood. Moreover, for hyperparameter optimization Hyperopt library is used and the process involves searching for the best set of hyperparameters for a machine learning model to achieve optimal performance. After developing the model, it will be deployed on Google Cloud in the future. "
   ]
  },
  {
   "cell_type": "markdown",
   "id": "ecdd817d-232f-4e76-ba45-49caf93c0874",
   "metadata": {},
   "source": [
    "Dataset can be found on https://www.kaggle.com/datasets/iammustafatz/diabetes-prediction-dataset"
   ]
  },
  {
   "cell_type": "code",
   "execution_count": null,
   "id": "fb16f3ac-b5ed-4ed4-a0d0-44883cb369ad",
   "metadata": {},
   "outputs": [],
   "source": []
  },
  {
   "cell_type": "code",
   "execution_count": 1,
   "id": "23442ba7-b769-49ff-9716-d8b8fb9b9af4",
   "metadata": {},
   "outputs": [],
   "source": [
    "#imports\n",
    "import pandas as pd\n",
    "import numpy as np\n",
    "import matplotlib.pyplot as plt\n",
    "import seaborn as sns\n",
    "\n",
    "import xgboost as xgb\n",
    "\n",
    "from sklearn.base import TransformerMixin, BaseEstimator\n",
    "from sklearn.pipeline import Pipeline\n",
    "from sklearn.compose import ColumnTransformer\n",
    "\n",
    "from hyperopt import fmin, tpe, hp, Trials, STATUS_OK\n",
    "\n",
    "from sklearn.preprocessing import OrdinalEncoder\n",
    "from sklearn.model_selection import train_test_split, cross_val_score,\\\n",
    "                                    cross_validate,cross_val_score, StratifiedKFold\n",
    "\n",
    "from sklearn.metrics import make_scorer, matthews_corrcoef, confusion_matrix, f1_score, log_loss, roc_auc_score,\\\n",
    "                             accuracy_score, roc_curve, fbeta_score, ConfusionMatrixDisplay,\\\n",
    "                            precision_score, classification_report, balanced_accuracy_score\n",
    "import joblib as jb\n",
    "import warnings"
   ]
  },
  {
   "cell_type": "code",
   "execution_count": 2,
   "id": "e95755ab-a120-4505-a48c-90a3c99fcf50",
   "metadata": {},
   "outputs": [],
   "source": [
    "%load_ext autoreload\n",
    "%autoreload 2"
   ]
  },
  {
   "cell_type": "code",
   "execution_count": 4,
   "id": "85b00a76-bf20-4c8e-a9d1-760fb3a920cd",
   "metadata": {},
   "outputs": [],
   "source": [
    "#helper func to calculate f2 score\n",
    "\n",
    "def f2_func(y_true, y_pred):\n",
    "    f2_score = fbeta_score(y_true, y_pred, beta=2)\n",
    "    return f2_score\n",
    "f2_scorer = make_scorer(f2_func, greater_is_better=True)"
   ]
  },
  {
   "cell_type": "markdown",
   "id": "6d992835-7452-4963-a34c-25b51b9ca037",
   "metadata": {},
   "source": [
    "### data upload"
   ]
  },
  {
   "cell_type": "code",
   "execution_count": 6,
   "id": "fd84ecaa-2140-4049-8583-71be0f81ef70",
   "metadata": {
    "scrolled": true
   },
   "outputs": [],
   "source": [
    "df = pd.read_csv(\"data/diabetes_prediction_dataset.csv\")"
   ]
  },
  {
   "cell_type": "code",
   "execution_count": 7,
   "id": "139781f4-3ea4-4740-9640-6f37e6328b67",
   "metadata": {},
   "outputs": [
    {
     "data": {
      "text/plain": [
       "(100000, 9)"
      ]
     },
     "execution_count": 7,
     "metadata": {},
     "output_type": "execute_result"
    }
   ],
   "source": [
    "df.shape"
   ]
  },
  {
   "cell_type": "code",
   "execution_count": 8,
   "id": "4f0a9770-61f7-4f3c-addc-e156945c8687",
   "metadata": {},
   "outputs": [
    {
     "data": {
      "text/html": [
       "<div>\n",
       "<style scoped>\n",
       "    .dataframe tbody tr th:only-of-type {\n",
       "        vertical-align: middle;\n",
       "    }\n",
       "\n",
       "    .dataframe tbody tr th {\n",
       "        vertical-align: top;\n",
       "    }\n",
       "\n",
       "    .dataframe thead th {\n",
       "        text-align: right;\n",
       "    }\n",
       "</style>\n",
       "<table border=\"1\" class=\"dataframe\">\n",
       "  <thead>\n",
       "    <tr style=\"text-align: right;\">\n",
       "      <th></th>\n",
       "      <th>gender</th>\n",
       "      <th>age</th>\n",
       "      <th>hypertension</th>\n",
       "      <th>heart_disease</th>\n",
       "      <th>smoking_history</th>\n",
       "      <th>bmi</th>\n",
       "      <th>HbA1c_level</th>\n",
       "      <th>blood_glucose_level</th>\n",
       "      <th>diabetes</th>\n",
       "    </tr>\n",
       "  </thead>\n",
       "  <tbody>\n",
       "    <tr>\n",
       "      <th>0</th>\n",
       "      <td>Female</td>\n",
       "      <td>80.0</td>\n",
       "      <td>0</td>\n",
       "      <td>1</td>\n",
       "      <td>never</td>\n",
       "      <td>25.19</td>\n",
       "      <td>6.6</td>\n",
       "      <td>140</td>\n",
       "      <td>0</td>\n",
       "    </tr>\n",
       "    <tr>\n",
       "      <th>1</th>\n",
       "      <td>Female</td>\n",
       "      <td>54.0</td>\n",
       "      <td>0</td>\n",
       "      <td>0</td>\n",
       "      <td>No Info</td>\n",
       "      <td>27.32</td>\n",
       "      <td>6.6</td>\n",
       "      <td>80</td>\n",
       "      <td>0</td>\n",
       "    </tr>\n",
       "    <tr>\n",
       "      <th>2</th>\n",
       "      <td>Male</td>\n",
       "      <td>28.0</td>\n",
       "      <td>0</td>\n",
       "      <td>0</td>\n",
       "      <td>never</td>\n",
       "      <td>27.32</td>\n",
       "      <td>5.7</td>\n",
       "      <td>158</td>\n",
       "      <td>0</td>\n",
       "    </tr>\n",
       "  </tbody>\n",
       "</table>\n",
       "</div>"
      ],
      "text/plain": [
       "   gender   age  hypertension  heart_disease smoking_history    bmi  \\\n",
       "0  Female  80.0             0              1           never  25.19   \n",
       "1  Female  54.0             0              0         No Info  27.32   \n",
       "2    Male  28.0             0              0           never  27.32   \n",
       "\n",
       "   HbA1c_level  blood_glucose_level  diabetes  \n",
       "0          6.6                  140         0  \n",
       "1          6.6                   80         0  \n",
       "2          5.7                  158         0  "
      ]
     },
     "execution_count": 8,
     "metadata": {},
     "output_type": "execute_result"
    }
   ],
   "source": [
    "df.head(3)"
   ]
  },
  {
   "cell_type": "markdown",
   "id": "9c91a267-c89f-4a69-a6f4-21efc15e14c9",
   "metadata": {},
   "source": [
    "## EDA"
   ]
  },
  {
   "cell_type": "code",
   "execution_count": 9,
   "id": "a2e0d060-f25b-41dd-ac28-0e3d8489fbeb",
   "metadata": {},
   "outputs": [
    {
     "data": {
      "text/html": [
       "<div>\n",
       "<style scoped>\n",
       "    .dataframe tbody tr th:only-of-type {\n",
       "        vertical-align: middle;\n",
       "    }\n",
       "\n",
       "    .dataframe tbody tr th {\n",
       "        vertical-align: top;\n",
       "    }\n",
       "\n",
       "    .dataframe thead th {\n",
       "        text-align: right;\n",
       "    }\n",
       "</style>\n",
       "<table border=\"1\" class=\"dataframe\">\n",
       "  <thead>\n",
       "    <tr style=\"text-align: right;\">\n",
       "      <th></th>\n",
       "      <th>gender</th>\n",
       "      <th>age</th>\n",
       "      <th>hypertension</th>\n",
       "      <th>heart_disease</th>\n",
       "      <th>smoking_history</th>\n",
       "      <th>bmi</th>\n",
       "      <th>HbA1c_level</th>\n",
       "      <th>blood_glucose_level</th>\n",
       "      <th>diabetes</th>\n",
       "    </tr>\n",
       "  </thead>\n",
       "  <tbody>\n",
       "    <tr>\n",
       "      <th>count</th>\n",
       "      <td>100000</td>\n",
       "      <td>100000.000000</td>\n",
       "      <td>100000.00000</td>\n",
       "      <td>100000.000000</td>\n",
       "      <td>100000</td>\n",
       "      <td>100000.000000</td>\n",
       "      <td>100000.000000</td>\n",
       "      <td>100000.000000</td>\n",
       "      <td>100000.000000</td>\n",
       "    </tr>\n",
       "    <tr>\n",
       "      <th>unique</th>\n",
       "      <td>3</td>\n",
       "      <td>NaN</td>\n",
       "      <td>NaN</td>\n",
       "      <td>NaN</td>\n",
       "      <td>6</td>\n",
       "      <td>NaN</td>\n",
       "      <td>NaN</td>\n",
       "      <td>NaN</td>\n",
       "      <td>NaN</td>\n",
       "    </tr>\n",
       "    <tr>\n",
       "      <th>top</th>\n",
       "      <td>Female</td>\n",
       "      <td>NaN</td>\n",
       "      <td>NaN</td>\n",
       "      <td>NaN</td>\n",
       "      <td>No Info</td>\n",
       "      <td>NaN</td>\n",
       "      <td>NaN</td>\n",
       "      <td>NaN</td>\n",
       "      <td>NaN</td>\n",
       "    </tr>\n",
       "    <tr>\n",
       "      <th>freq</th>\n",
       "      <td>58552</td>\n",
       "      <td>NaN</td>\n",
       "      <td>NaN</td>\n",
       "      <td>NaN</td>\n",
       "      <td>35816</td>\n",
       "      <td>NaN</td>\n",
       "      <td>NaN</td>\n",
       "      <td>NaN</td>\n",
       "      <td>NaN</td>\n",
       "    </tr>\n",
       "    <tr>\n",
       "      <th>mean</th>\n",
       "      <td>NaN</td>\n",
       "      <td>41.885856</td>\n",
       "      <td>0.07485</td>\n",
       "      <td>0.039420</td>\n",
       "      <td>NaN</td>\n",
       "      <td>27.320767</td>\n",
       "      <td>5.527507</td>\n",
       "      <td>138.058060</td>\n",
       "      <td>0.085000</td>\n",
       "    </tr>\n",
       "    <tr>\n",
       "      <th>std</th>\n",
       "      <td>NaN</td>\n",
       "      <td>22.516840</td>\n",
       "      <td>0.26315</td>\n",
       "      <td>0.194593</td>\n",
       "      <td>NaN</td>\n",
       "      <td>6.636783</td>\n",
       "      <td>1.070672</td>\n",
       "      <td>40.708136</td>\n",
       "      <td>0.278883</td>\n",
       "    </tr>\n",
       "    <tr>\n",
       "      <th>min</th>\n",
       "      <td>NaN</td>\n",
       "      <td>0.080000</td>\n",
       "      <td>0.00000</td>\n",
       "      <td>0.000000</td>\n",
       "      <td>NaN</td>\n",
       "      <td>10.010000</td>\n",
       "      <td>3.500000</td>\n",
       "      <td>80.000000</td>\n",
       "      <td>0.000000</td>\n",
       "    </tr>\n",
       "    <tr>\n",
       "      <th>25%</th>\n",
       "      <td>NaN</td>\n",
       "      <td>24.000000</td>\n",
       "      <td>0.00000</td>\n",
       "      <td>0.000000</td>\n",
       "      <td>NaN</td>\n",
       "      <td>23.630000</td>\n",
       "      <td>4.800000</td>\n",
       "      <td>100.000000</td>\n",
       "      <td>0.000000</td>\n",
       "    </tr>\n",
       "    <tr>\n",
       "      <th>50%</th>\n",
       "      <td>NaN</td>\n",
       "      <td>43.000000</td>\n",
       "      <td>0.00000</td>\n",
       "      <td>0.000000</td>\n",
       "      <td>NaN</td>\n",
       "      <td>27.320000</td>\n",
       "      <td>5.800000</td>\n",
       "      <td>140.000000</td>\n",
       "      <td>0.000000</td>\n",
       "    </tr>\n",
       "    <tr>\n",
       "      <th>75%</th>\n",
       "      <td>NaN</td>\n",
       "      <td>60.000000</td>\n",
       "      <td>0.00000</td>\n",
       "      <td>0.000000</td>\n",
       "      <td>NaN</td>\n",
       "      <td>29.580000</td>\n",
       "      <td>6.200000</td>\n",
       "      <td>159.000000</td>\n",
       "      <td>0.000000</td>\n",
       "    </tr>\n",
       "    <tr>\n",
       "      <th>max</th>\n",
       "      <td>NaN</td>\n",
       "      <td>80.000000</td>\n",
       "      <td>1.00000</td>\n",
       "      <td>1.000000</td>\n",
       "      <td>NaN</td>\n",
       "      <td>95.690000</td>\n",
       "      <td>9.000000</td>\n",
       "      <td>300.000000</td>\n",
       "      <td>1.000000</td>\n",
       "    </tr>\n",
       "  </tbody>\n",
       "</table>\n",
       "</div>"
      ],
      "text/plain": [
       "        gender            age  hypertension  heart_disease smoking_history  \\\n",
       "count   100000  100000.000000  100000.00000  100000.000000          100000   \n",
       "unique       3            NaN           NaN            NaN               6   \n",
       "top     Female            NaN           NaN            NaN         No Info   \n",
       "freq     58552            NaN           NaN            NaN           35816   \n",
       "mean       NaN      41.885856       0.07485       0.039420             NaN   \n",
       "std        NaN      22.516840       0.26315       0.194593             NaN   \n",
       "min        NaN       0.080000       0.00000       0.000000             NaN   \n",
       "25%        NaN      24.000000       0.00000       0.000000             NaN   \n",
       "50%        NaN      43.000000       0.00000       0.000000             NaN   \n",
       "75%        NaN      60.000000       0.00000       0.000000             NaN   \n",
       "max        NaN      80.000000       1.00000       1.000000             NaN   \n",
       "\n",
       "                  bmi    HbA1c_level  blood_glucose_level       diabetes  \n",
       "count   100000.000000  100000.000000        100000.000000  100000.000000  \n",
       "unique            NaN            NaN                  NaN            NaN  \n",
       "top               NaN            NaN                  NaN            NaN  \n",
       "freq              NaN            NaN                  NaN            NaN  \n",
       "mean        27.320767       5.527507           138.058060       0.085000  \n",
       "std          6.636783       1.070672            40.708136       0.278883  \n",
       "min         10.010000       3.500000            80.000000       0.000000  \n",
       "25%         23.630000       4.800000           100.000000       0.000000  \n",
       "50%         27.320000       5.800000           140.000000       0.000000  \n",
       "75%         29.580000       6.200000           159.000000       0.000000  \n",
       "max         95.690000       9.000000           300.000000       1.000000  "
      ]
     },
     "execution_count": 9,
     "metadata": {},
     "output_type": "execute_result"
    }
   ],
   "source": [
    "df.describe(include = 'all')"
   ]
  },
  {
   "cell_type": "code",
   "execution_count": 10,
   "id": "c3c084c4-f3b8-4ff9-a363-ef9d7d7c65f5",
   "metadata": {},
   "outputs": [
    {
     "data": {
      "text/plain": [
       "array(['Female', 'Male', 'Other'], dtype=object)"
      ]
     },
     "execution_count": 10,
     "metadata": {},
     "output_type": "execute_result"
    }
   ],
   "source": [
    "#unique values in gender variable\n",
    "df.gender.unique()"
   ]
  },
  {
   "cell_type": "code",
   "execution_count": 11,
   "id": "b9b3a65f-18a6-4c9e-9036-821f741f43fb",
   "metadata": {},
   "outputs": [
    {
     "data": {
      "text/plain": [
       "array(['never', 'No Info', 'current', 'former', 'ever', 'not current'],\n",
       "      dtype=object)"
      ]
     },
     "execution_count": 11,
     "metadata": {},
     "output_type": "execute_result"
    }
   ],
   "source": [
    "#unique values in smoking history variable\n",
    "df.smoking_history.unique()"
   ]
  },
  {
   "cell_type": "code",
   "execution_count": 12,
   "id": "8659b828-f6cb-4afe-a13f-cdc848c89bda",
   "metadata": {},
   "outputs": [
    {
     "data": {
      "text/plain": [
       "gender                 0\n",
       "age                    0\n",
       "hypertension           0\n",
       "heart_disease          0\n",
       "smoking_history        0\n",
       "bmi                    0\n",
       "HbA1c_level            0\n",
       "blood_glucose_level    0\n",
       "diabetes               0\n",
       "dtype: int64"
      ]
     },
     "execution_count": 12,
     "metadata": {},
     "output_type": "execute_result"
    }
   ],
   "source": [
    "#Checking missing data and duplicated values\n",
    "df.isna().sum()"
   ]
  },
  {
   "cell_type": "code",
   "execution_count": 13,
   "id": "9381a903-afeb-4bb9-b54b-1e26f7d1e260",
   "metadata": {},
   "outputs": [
    {
     "data": {
      "text/plain": [
       "3854"
      ]
     },
     "execution_count": 13,
     "metadata": {},
     "output_type": "execute_result"
    }
   ],
   "source": [
    "df.duplicated().sum()"
   ]
  },
  {
   "cell_type": "code",
   "execution_count": 14,
   "id": "c607a385-f9f5-4798-8ff4-1808084b1877",
   "metadata": {},
   "outputs": [
    {
     "data": {
      "text/plain": [
       "(96146, 9)"
      ]
     },
     "execution_count": 14,
     "metadata": {},
     "output_type": "execute_result"
    }
   ],
   "source": [
    "# Getting the dataframe without duplicated rows\n",
    "df = df.drop_duplicates()\n",
    "df.shape"
   ]
  },
  {
   "cell_type": "markdown",
   "id": "802814ba-46d0-465d-852d-db5fa6b170df",
   "metadata": {},
   "source": [
    "## we will check distribution of the each feature"
   ]
  },
  {
   "cell_type": "code",
   "execution_count": 15,
   "id": "d8d943fd-57f5-449f-9392-49a6f36527a7",
   "metadata": {},
   "outputs": [
    {
     "data": {
      "text/plain": [
       "gender\n",
       "Female    0.584122\n",
       "Male      0.415691\n",
       "Other     0.000187\n",
       "Name: proportion, dtype: float64"
      ]
     },
     "execution_count": 15,
     "metadata": {},
     "output_type": "execute_result"
    }
   ],
   "source": [
    "df.gender.value_counts(normalize = True)"
   ]
  },
  {
   "cell_type": "code",
   "execution_count": 16,
   "id": "3ef62ac3-a05e-4b28-b5db-80e3b28a202d",
   "metadata": {},
   "outputs": [],
   "source": [
    "#since there are only 18 values out of 1M that represent Other categories so will drop those 18 values\n",
    "df = df.query(\"gender != 'Other'\").reset_index(drop=True)"
   ]
  },
  {
   "cell_type": "code",
   "execution_count": 17,
   "id": "2da97e02-c60c-4adf-af4f-40369778cfba",
   "metadata": {},
   "outputs": [
    {
     "name": "stdout",
     "output_type": "stream",
     "text": [
      "gender\n",
      "Female    56161\n",
      "Male      39967\n",
      "Name: count, dtype: int64\n"
     ]
    },
    {
     "data": {
      "text/plain": [
       "<Axes: xlabel='gender', ylabel='count'>"
      ]
     },
     "execution_count": 17,
     "metadata": {},
     "output_type": "execute_result"
    },
    {
     "data": {
      "image/png": "[encoded data removed]",
      "text/plain": [
       "<Figure size 640x480 with 1 Axes>"
      ]
     },
     "metadata": {},
     "output_type": "display_data"
    }
   ],
   "source": [
    "print(df['gender'].value_counts())\n",
    "sns.countplot(data = df, x = 'gender', hue = 'diabetes')"
   ]
  },
  {
   "cell_type": "code",
   "execution_count": 18,
   "id": "445776fc-27ba-47c5-ae77-b5e9e97cae40",
   "metadata": {},
   "outputs": [
    {
     "data": {
      "text/html": [
       "<div>\n",
       "<style scoped>\n",
       "    .dataframe tbody tr th:only-of-type {\n",
       "        vertical-align: middle;\n",
       "    }\n",
       "\n",
       "    .dataframe tbody tr th {\n",
       "        vertical-align: top;\n",
       "    }\n",
       "\n",
       "    .dataframe thead tr th {\n",
       "        text-align: left;\n",
       "    }\n",
       "\n",
       "    .dataframe thead tr:last-of-type th {\n",
       "        text-align: right;\n",
       "    }\n",
       "</style>\n",
       "<table border=\"1\" class=\"dataframe\">\n",
       "  <thead>\n",
       "    <tr>\n",
       "      <th></th>\n",
       "      <th colspan=\"2\" halign=\"left\">diabetes</th>\n",
       "    </tr>\n",
       "    <tr>\n",
       "      <th></th>\n",
       "      <th>mean</th>\n",
       "      <th>count</th>\n",
       "    </tr>\n",
       "    <tr>\n",
       "      <th>gender</th>\n",
       "      <th></th>\n",
       "      <th></th>\n",
       "    </tr>\n",
       "  </thead>\n",
       "  <tbody>\n",
       "    <tr>\n",
       "      <th>Female</th>\n",
       "      <td>0.079183</td>\n",
       "      <td>56161</td>\n",
       "    </tr>\n",
       "    <tr>\n",
       "      <th>Male</th>\n",
       "      <td>0.100958</td>\n",
       "      <td>39967</td>\n",
       "    </tr>\n",
       "  </tbody>\n",
       "</table>\n",
       "</div>"
      ],
      "text/plain": [
       "        diabetes       \n",
       "            mean  count\n",
       "gender                 \n",
       "Female  0.079183  56161\n",
       "Male    0.100958  39967"
      ]
     },
     "execution_count": 18,
     "metadata": {},
     "output_type": "execute_result"
    }
   ],
   "source": [
    "df[['gender','diabetes']].groupby(by='gender').agg(['mean','count'])"
   ]
  },
  {
   "cell_type": "markdown",
   "id": "49b71cba-72f3-4cac-b1d5-393a3c3c6a1d",
   "metadata": {},
   "source": [
    "Males had a higher incidence of diabetes at 10%, compared to females at 7%."
   ]
  },
  {
   "cell_type": "code",
   "execution_count": 19,
   "id": "25020703-4683-4ea8-bc82-600bd235b39d",
   "metadata": {},
   "outputs": [
    {
     "data": {
      "text/plain": [
       "smoking_history\n",
       "never          0.357804\n",
       "No Info        0.342054\n",
       "former         0.096736\n",
       "current        0.095675\n",
       "not current    0.066151\n",
       "ever           0.041580\n",
       "Name: proportion, dtype: float64"
      ]
     },
     "execution_count": 19,
     "metadata": {},
     "output_type": "execute_result"
    }
   ],
   "source": [
    "df.smoking_history.value_counts(normalize = True)"
   ]
  },
  {
   "cell_type": "code",
   "execution_count": 20,
   "id": "30b11893-df02-420a-8875-79dbf984ad3a",
   "metadata": {},
   "outputs": [
    {
     "data": {
      "text/html": [
       "<div>\n",
       "<style scoped>\n",
       "    .dataframe tbody tr th:only-of-type {\n",
       "        vertical-align: middle;\n",
       "    }\n",
       "\n",
       "    .dataframe tbody tr th {\n",
       "        vertical-align: top;\n",
       "    }\n",
       "\n",
       "    .dataframe thead tr th {\n",
       "        text-align: left;\n",
       "    }\n",
       "\n",
       "    .dataframe thead tr:last-of-type th {\n",
       "        text-align: right;\n",
       "    }\n",
       "</style>\n",
       "<table border=\"1\" class=\"dataframe\">\n",
       "  <thead>\n",
       "    <tr>\n",
       "      <th></th>\n",
       "      <th colspan=\"2\" halign=\"left\">diabetes</th>\n",
       "    </tr>\n",
       "    <tr>\n",
       "      <th></th>\n",
       "      <th>mean</th>\n",
       "      <th>count</th>\n",
       "    </tr>\n",
       "    <tr>\n",
       "      <th>hypertension</th>\n",
       "      <th></th>\n",
       "      <th></th>\n",
       "    </tr>\n",
       "  </thead>\n",
       "  <tbody>\n",
       "    <tr>\n",
       "      <th>0</th>\n",
       "      <td>0.072135</td>\n",
       "      <td>88667</td>\n",
       "    </tr>\n",
       "    <tr>\n",
       "      <th>1</th>\n",
       "      <td>0.279587</td>\n",
       "      <td>7461</td>\n",
       "    </tr>\n",
       "  </tbody>\n",
       "</table>\n",
       "</div>"
      ],
      "text/plain": [
       "              diabetes       \n",
       "                  mean  count\n",
       "hypertension                 \n",
       "0             0.072135  88667\n",
       "1             0.279587   7461"
      ]
     },
     "execution_count": 20,
     "metadata": {},
     "output_type": "execute_result"
    }
   ],
   "source": [
    "# Checking the diabetes mean and count for hypertension\n",
    "df[['hypertension','diabetes']].groupby(by='hypertension').agg(['mean','count'])"
   ]
  },
  {
   "cell_type": "markdown",
   "id": "971b9033-af53-489f-af7e-5cd5bf376943",
   "metadata": {},
   "source": [
    "More people with high blood pressure (28%) had diabetes compared to those without high blood pressure (7%)."
   ]
  },
  {
   "cell_type": "code",
   "execution_count": 21,
   "id": "17df282d-f041-4075-ae21-ac9458946505",
   "metadata": {},
   "outputs": [
    {
     "data": {
      "text/plain": [
       "heart_disease\n",
       "0    92205\n",
       "1     3923\n",
       "Name: count, dtype: int64"
      ]
     },
     "execution_count": 21,
     "metadata": {},
     "output_type": "execute_result"
    }
   ],
   "source": [
    "df.heart_disease.value_counts()"
   ]
  },
  {
   "cell_type": "code",
   "execution_count": 22,
   "id": "c36bc6ef-122a-48df-ad37-ef8177f94ed6",
   "metadata": {},
   "outputs": [
    {
     "name": "stdout",
     "output_type": "stream",
     "text": [
      "heart_disease\n",
      "0    92205\n",
      "1     3923\n",
      "Name: count, dtype: int64\n"
     ]
    },
    {
     "data": {
      "text/plain": [
       "<Axes: xlabel='heart_disease', ylabel='count'>"
      ]
     },
     "execution_count": 22,
     "metadata": {},
     "output_type": "execute_result"
    },
    {
     "data": {
      "image/png": "[encoded data removed]",
      "text/plain": [
       "<Figure size 640x480 with 1 Axes>"
      ]
     },
     "metadata": {},
     "output_type": "display_data"
    }
   ],
   "source": [
    "print(df['heart_disease'].value_counts())\n",
    "sns.countplot(data = df, x = 'heart_disease', hue = 'diabetes')"
   ]
  },
  {
   "cell_type": "code",
   "execution_count": 23,
   "id": "6f0923ed-966f-4f7a-9bcf-7da818847071",
   "metadata": {},
   "outputs": [],
   "source": [
    "#helper function to help display features\n",
    "def plot_distribution(df, column_name):\n",
    "    # Plotting distribution\n",
    "    fig, ax = plt.subplots(figsize=(7, 4), nrows=1, ncols=1)\n",
    "    sns.histplot(data=df, x=column_name, hue='diabetes', kde=True, bins=20)  \n",
    "    plt.tight_layout()\n",
    "    plt.show()\n"
   ]
  },
  {
   "cell_type": "code",
   "execution_count": 24,
   "id": "57275668-1c01-4cce-bfd2-cc2ec6ba30a6",
   "metadata": {},
   "outputs": [
    {
     "data": {
      "image/png": "[encoded data removed]",
      "text/plain": [
       "<Figure size 700x400 with 1 Axes>"
      ]
     },
     "metadata": {},
     "output_type": "display_data"
    }
   ],
   "source": [
    "plot_distribution(df, 'age')"
   ]
  },
  {
   "cell_type": "code",
   "execution_count": 25,
   "id": "a73cb1f6-9e82-4b43-838a-2a2a6e5a627c",
   "metadata": {},
   "outputs": [
    {
     "data": {
      "image/png": "[encoded data removed]",
      "text/plain": [
       "<Figure size 700x400 with 1 Axes>"
      ]
     },
     "metadata": {},
     "output_type": "display_data"
    }
   ],
   "source": [
    "plot_distribution(df, 'bmi')"
   ]
  },
  {
   "cell_type": "code",
   "execution_count": null,
   "id": "82298fa4-89b5-4f0b-b6b3-f91583e6ada2",
   "metadata": {},
   "outputs": [],
   "source": []
  },
  {
   "cell_type": "markdown",
   "id": "4dfb4242-38d4-44a1-a539-610de28693f8",
   "metadata": {},
   "source": [
    "The boxplot shows us that the people with diabetes have a median bmi higher than those without diabetes."
   ]
  },
  {
   "cell_type": "code",
   "execution_count": 26,
   "id": "e6d62a84-8c32-4be8-a981-44ae80d04e56",
   "metadata": {},
   "outputs": [
    {
     "data": {
      "image/png": "[encoded data removed]",
      "text/plain": [
       "<Figure size 700x400 with 1 Axes>"
      ]
     },
     "metadata": {},
     "output_type": "display_data"
    }
   ],
   "source": [
    "plot_distribution(df, 'blood_glucose_level')"
   ]
  },
  {
   "cell_type": "markdown",
   "id": "f7a02639-2910-470b-a704-b7257315b8ed",
   "metadata": {},
   "source": [
    "note that nobody from the non-diabetic group had blood_glucose_level higher than 200"
   ]
  },
  {
   "cell_type": "code",
   "execution_count": null,
   "id": "d62c11fc-3288-413f-92fe-903fa412d505",
   "metadata": {},
   "outputs": [],
   "source": []
  },
  {
   "cell_type": "code",
   "execution_count": 27,
   "id": "2b1b864b-4e5a-47a4-85aa-6c59d52bcbec",
   "metadata": {},
   "outputs": [
    {
     "data": {
      "image/png": "[encoded data removed]",
      "text/plain": [
       "<Figure size 700x400 with 1 Axes>"
      ]
     },
     "metadata": {},
     "output_type": "display_data"
    }
   ],
   "source": [
    "plot_distribution(df, 'HbA1c_level')"
   ]
  },
  {
   "cell_type": "markdown",
   "id": "496e362a-164e-4602-9b32-45ec19bdc7b5",
   "metadata": {},
   "source": [
    "Nobody from the non-diabetic group had an HbA1c_level higher than approximately 7"
   ]
  },
  {
   "cell_type": "markdown",
   "id": "410b9148-6a1c-44d1-92d3-133c38316a1d",
   "metadata": {},
   "source": [
    "### Target variable and evaluation metrics"
   ]
  },
  {
   "cell_type": "code",
   "execution_count": 28,
   "id": "bdf425f6-52d4-4416-ac7f-c801907e5725",
   "metadata": {},
   "outputs": [
    {
     "data": {
      "text/plain": [
       "diabetes\n",
       "0    0.911763\n",
       "1    0.088237\n",
       "Name: proportion, dtype: float64"
      ]
     },
     "execution_count": 28,
     "metadata": {},
     "output_type": "execute_result"
    }
   ],
   "source": [
    "df.diabetes.value_counts(normalize = True)"
   ]
  },
  {
   "cell_type": "code",
   "execution_count": 29,
   "id": "566c13d5-e956-4d6a-8b67-39ce32f88200",
   "metadata": {},
   "outputs": [
    {
     "data": {
      "text/plain": [
       "<Axes: xlabel='diabetes'>"
      ]
     },
     "execution_count": 29,
     "metadata": {},
     "output_type": "execute_result"
    },
    {
     "data": {
      "image/png": "[encoded data removed]",
      "text/plain": [
       "<Figure size 640x480 with 1 Axes>"
      ]
     },
     "metadata": {},
     "output_type": "display_data"
    }
   ],
   "source": [
    "df['diabetes'].value_counts().plot(kind='bar')"
   ]
  },
  {
   "cell_type": "markdown",
   "id": "778937d8-5256-4def-b0d4-4f072ae8af22",
   "metadata": {},
   "source": [
    "The dataset shows that only 8.8% of cases have diabetes, making it imbalanced. This could be a problem when creating the machine learning model, as it might end up biased towards predicting the more common non-diabetic cases."
   ]
  },
  {
   "cell_type": "markdown",
   "id": "b71d4e9c-1d4c-4899-91a2-bae4dc75489e",
   "metadata": {},
   "source": [
    "Given that only 8% of instances have diabetes in our dataset, having a higher recall becomes important to ensure that the model is good at identifying those instances, even at the cost of some precision. So, we are choosing an F-beta score with a higher beta value, like 2, is a way to address the imbalance in the data and ensure that the model's performance is evaluated with a focus on correctly identifying instances of the minority class.\n",
    "In our case, accurately identifying individuals with diabetes is crucial, and we want to avoid missing any cases. While this approach might result in more false positives (higher precision), it is acceptable because diagnosing diabetes promptly ensures that patients receive timely treatment and can take necessary steps, such as adopting a healthier diet by avoiding sugary foods.\n",
    "\n",
    "However, it's essential to note that all of the patients who are classified as having diabetes, immediate medical treatment is not advisable. Instead, it's wise for individuals to undergo further testing before beginning any treatment. This approach ensures a more precise diagnosis and allows for a personalized healthcare plan tailored to the specific needs of each person."
   ]
  },
  {
   "cell_type": "markdown",
   "id": "c1f7f173-55fe-43e0-8dd8-a658003d385b",
   "metadata": {},
   "source": [
    "## Training"
   ]
  },
  {
   "cell_type": "code",
   "execution_count": 30,
   "id": "a502d711-4c4f-45e8-b7d4-7ed48d8212bb",
   "metadata": {},
   "outputs": [
    {
     "data": {
      "text/html": [
       "<div>\n",
       "<style scoped>\n",
       "    .dataframe tbody tr th:only-of-type {\n",
       "        vertical-align: middle;\n",
       "    }\n",
       "\n",
       "    .dataframe tbody tr th {\n",
       "        vertical-align: top;\n",
       "    }\n",
       "\n",
       "    .dataframe thead th {\n",
       "        text-align: right;\n",
       "    }\n",
       "</style>\n",
       "<table border=\"1\" class=\"dataframe\">\n",
       "  <thead>\n",
       "    <tr style=\"text-align: right;\">\n",
       "      <th></th>\n",
       "      <th>gender</th>\n",
       "      <th>age</th>\n",
       "      <th>hypertension</th>\n",
       "      <th>heart_disease</th>\n",
       "      <th>smoking_history</th>\n",
       "      <th>bmi</th>\n",
       "      <th>HbA1c_level</th>\n",
       "      <th>blood_glucose_level</th>\n",
       "      <th>diabetes</th>\n",
       "    </tr>\n",
       "  </thead>\n",
       "  <tbody>\n",
       "    <tr>\n",
       "      <th>0</th>\n",
       "      <td>Female</td>\n",
       "      <td>80.0</td>\n",
       "      <td>0</td>\n",
       "      <td>1</td>\n",
       "      <td>never</td>\n",
       "      <td>25.19</td>\n",
       "      <td>6.6</td>\n",
       "      <td>140</td>\n",
       "      <td>0</td>\n",
       "    </tr>\n",
       "    <tr>\n",
       "      <th>1</th>\n",
       "      <td>Female</td>\n",
       "      <td>54.0</td>\n",
       "      <td>0</td>\n",
       "      <td>0</td>\n",
       "      <td>No Info</td>\n",
       "      <td>27.32</td>\n",
       "      <td>6.6</td>\n",
       "      <td>80</td>\n",
       "      <td>0</td>\n",
       "    </tr>\n",
       "    <tr>\n",
       "      <th>2</th>\n",
       "      <td>Male</td>\n",
       "      <td>28.0</td>\n",
       "      <td>0</td>\n",
       "      <td>0</td>\n",
       "      <td>never</td>\n",
       "      <td>27.32</td>\n",
       "      <td>5.7</td>\n",
       "      <td>158</td>\n",
       "      <td>0</td>\n",
       "    </tr>\n",
       "    <tr>\n",
       "      <th>3</th>\n",
       "      <td>Female</td>\n",
       "      <td>36.0</td>\n",
       "      <td>0</td>\n",
       "      <td>0</td>\n",
       "      <td>current</td>\n",
       "      <td>23.45</td>\n",
       "      <td>5.0</td>\n",
       "      <td>155</td>\n",
       "      <td>0</td>\n",
       "    </tr>\n",
       "  </tbody>\n",
       "</table>\n",
       "</div>"
      ],
      "text/plain": [
       "   gender   age  hypertension  heart_disease smoking_history    bmi  \\\n",
       "0  Female  80.0             0              1           never  25.19   \n",
       "1  Female  54.0             0              0         No Info  27.32   \n",
       "2    Male  28.0             0              0           never  27.32   \n",
       "3  Female  36.0             0              0         current  23.45   \n",
       "\n",
       "   HbA1c_level  blood_glucose_level  diabetes  \n",
       "0          6.6                  140         0  \n",
       "1          6.6                   80         0  \n",
       "2          5.7                  158         0  \n",
       "3          5.0                  155         0  "
      ]
     },
     "execution_count": 30,
     "metadata": {},
     "output_type": "execute_result"
    }
   ],
   "source": [
    "df.head(4)"
   ]
  },
  {
   "cell_type": "code",
   "execution_count": 31,
   "id": "2b8138b8-6281-45de-b8b7-5466668b924d",
   "metadata": {},
   "outputs": [
    {
     "data": {
      "text/plain": [
       "Index(['gender', 'age', 'hypertension', 'heart_disease', 'smoking_history',\n",
       "       'bmi', 'HbA1c_level', 'blood_glucose_level', 'diabetes'],\n",
       "      dtype='object')"
      ]
     },
     "execution_count": 31,
     "metadata": {},
     "output_type": "execute_result"
    }
   ],
   "source": [
    "df.columns"
   ]
  },
  {
   "cell_type": "code",
   "execution_count": 32,
   "id": "64007a22-ae36-4378-b4f3-d7a88f178cd8",
   "metadata": {},
   "outputs": [],
   "source": [
    "# Categorical features\n",
    "cat_feats = ['gender','smoking_history']\n",
    "\n",
    "# Binary features\n",
    "bin_feats = ['hypertension','heart_disease']\n",
    "\n",
    "# Numerical features\n",
    "num_feats = ['age', 'bmi', 'HbA1c_level', 'blood_glucose_level']\n"
   ]
  },
  {
   "cell_type": "code",
   "execution_count": 33,
   "id": "bafe778c-f21a-476b-9a04-96de54031059",
   "metadata": {},
   "outputs": [],
   "source": [
    "y = df['diabetes'] #target variable"
   ]
  },
  {
   "cell_type": "code",
   "execution_count": 34,
   "id": "5e13527c-d4e5-4e73-bae1-321559b943fe",
   "metadata": {},
   "outputs": [],
   "source": [
    "preprocessor= ColumnTransformer(\n",
    "    [\n",
    "        ('num','passthrough',num_feats),\n",
    "        ('cat',OrdinalEncoder(),cat_feats),\n",
    "        ('bin','passthrough', bin_feats)\n",
    "    ],\n",
    "    remainder='drop',\n",
    "    verbose_feature_names_out=True\n",
    ")\n",
    "pipeline = Pipeline(steps=[\n",
    "    ('preprocessor', preprocessor)\n",
    "])"
   ]
  },
  {
   "cell_type": "code",
   "execution_count": null,
   "id": "c3fbc2d4-29be-4ba6-a7f6-a528bdf5b693",
   "metadata": {},
   "outputs": [],
   "source": []
  },
  {
   "cell_type": "code",
   "execution_count": 35,
   "id": "f52d0033-b8fd-4114-a3e2-bc675ddd3ff3",
   "metadata": {},
   "outputs": [],
   "source": [
    "# Fit and transform data using the pipeline\n",
    "transformed_data = pipeline.fit_transform(df)"
   ]
  },
  {
   "cell_type": "code",
   "execution_count": 36,
   "id": "2a7beed4-ba1d-404d-99be-9670f83b124b",
   "metadata": {},
   "outputs": [],
   "source": [
    "feature_names = preprocessor.get_feature_names_out()\n",
    "# Creating a DataFrame with the transformed data and feature names\n",
    "df_transformed = pd.DataFrame(transformed_data, columns=feature_names,)"
   ]
  },
  {
   "cell_type": "code",
   "execution_count": 37,
   "id": "126e28dc-5d9a-458e-8e03-0fde9d7840a3",
   "metadata": {},
   "outputs": [
    {
     "data": {
      "text/html": [
       "<div>\n",
       "<style scoped>\n",
       "    .dataframe tbody tr th:only-of-type {\n",
       "        vertical-align: middle;\n",
       "    }\n",
       "\n",
       "    .dataframe tbody tr th {\n",
       "        vertical-align: top;\n",
       "    }\n",
       "\n",
       "    .dataframe thead th {\n",
       "        text-align: right;\n",
       "    }\n",
       "</style>\n",
       "<table border=\"1\" class=\"dataframe\">\n",
       "  <thead>\n",
       "    <tr style=\"text-align: right;\">\n",
       "      <th></th>\n",
       "      <th>num__age</th>\n",
       "      <th>num__bmi</th>\n",
       "      <th>num__HbA1c_level</th>\n",
       "      <th>num__blood_glucose_level</th>\n",
       "      <th>cat__gender</th>\n",
       "      <th>cat__smoking_history</th>\n",
       "      <th>bin__hypertension</th>\n",
       "      <th>bin__heart_disease</th>\n",
       "    </tr>\n",
       "  </thead>\n",
       "  <tbody>\n",
       "    <tr>\n",
       "      <th>0</th>\n",
       "      <td>80.0</td>\n",
       "      <td>25.19</td>\n",
       "      <td>6.6</td>\n",
       "      <td>140.0</td>\n",
       "      <td>0.0</td>\n",
       "      <td>4.0</td>\n",
       "      <td>0.0</td>\n",
       "      <td>1.0</td>\n",
       "    </tr>\n",
       "    <tr>\n",
       "      <th>1</th>\n",
       "      <td>54.0</td>\n",
       "      <td>27.32</td>\n",
       "      <td>6.6</td>\n",
       "      <td>80.0</td>\n",
       "      <td>0.0</td>\n",
       "      <td>0.0</td>\n",
       "      <td>0.0</td>\n",
       "      <td>0.0</td>\n",
       "    </tr>\n",
       "    <tr>\n",
       "      <th>2</th>\n",
       "      <td>28.0</td>\n",
       "      <td>27.32</td>\n",
       "      <td>5.7</td>\n",
       "      <td>158.0</td>\n",
       "      <td>1.0</td>\n",
       "      <td>4.0</td>\n",
       "      <td>0.0</td>\n",
       "      <td>0.0</td>\n",
       "    </tr>\n",
       "    <tr>\n",
       "      <th>3</th>\n",
       "      <td>36.0</td>\n",
       "      <td>23.45</td>\n",
       "      <td>5.0</td>\n",
       "      <td>155.0</td>\n",
       "      <td>0.0</td>\n",
       "      <td>1.0</td>\n",
       "      <td>0.0</td>\n",
       "      <td>0.0</td>\n",
       "    </tr>\n",
       "    <tr>\n",
       "      <th>4</th>\n",
       "      <td>76.0</td>\n",
       "      <td>20.14</td>\n",
       "      <td>4.8</td>\n",
       "      <td>155.0</td>\n",
       "      <td>1.0</td>\n",
       "      <td>1.0</td>\n",
       "      <td>1.0</td>\n",
       "      <td>1.0</td>\n",
       "    </tr>\n",
       "  </tbody>\n",
       "</table>\n",
       "</div>"
      ],
      "text/plain": [
       "   num__age  num__bmi  num__HbA1c_level  num__blood_glucose_level  \\\n",
       "0      80.0     25.19               6.6                     140.0   \n",
       "1      54.0     27.32               6.6                      80.0   \n",
       "2      28.0     27.32               5.7                     158.0   \n",
       "3      36.0     23.45               5.0                     155.0   \n",
       "4      76.0     20.14               4.8                     155.0   \n",
       "\n",
       "   cat__gender  cat__smoking_history  bin__hypertension  bin__heart_disease  \n",
       "0          0.0                   4.0                0.0                 1.0  \n",
       "1          0.0                   0.0                0.0                 0.0  \n",
       "2          1.0                   4.0                0.0                 0.0  \n",
       "3          0.0                   1.0                0.0                 0.0  \n",
       "4          1.0                   1.0                1.0                 1.0  "
      ]
     },
     "execution_count": 37,
     "metadata": {},
     "output_type": "execute_result"
    }
   ],
   "source": [
    "df_transformed.head(5)"
   ]
  },
  {
   "cell_type": "code",
   "execution_count": 39,
   "id": "c443c08a-9539-49be-a9d3-adebe091097c",
   "metadata": {},
   "outputs": [
    {
     "data": {
      "text/plain": [
       "((96128,), (96128, 8))"
      ]
     },
     "execution_count": 39,
     "metadata": {},
     "output_type": "execute_result"
    }
   ],
   "source": [
    "y.shape, df_transformed.shape"
   ]
  },
  {
   "cell_type": "code",
   "execution_count": 40,
   "id": "9492174a-ffea-4769-ab59-4f9ef399a128",
   "metadata": {},
   "outputs": [],
   "source": [
    "#splitting data into train and test\n",
    "X_train,X_test,y_train,y_test = train_test_split(df_transformed, y, test_size=0.20, stratify = y, random_state = 42)\n"
   ]
  },
  {
   "cell_type": "code",
   "execution_count": 41,
   "id": "d6f0f4ae-a8f1-4570-8b59-0c0c3a4de129",
   "metadata": {},
   "outputs": [
    {
     "data": {
      "text/plain": [
       "((76902, 8), (76902,))"
      ]
     },
     "execution_count": 41,
     "metadata": {},
     "output_type": "execute_result"
    }
   ],
   "source": [
    "X_train.shape, y_train.shape"
   ]
  },
  {
   "cell_type": "code",
   "execution_count": 42,
   "id": "9a650ac7-fe3d-48a7-9ec0-d197f1ec4605",
   "metadata": {
    "scrolled": true
   },
   "outputs": [
    {
     "name": "stdout",
     "output_type": "stream",
     "text": [
      "CrossValMean:                                                                   \n",
      "0.7935289475822066                                                              \n",
      "CrossValMean:                                                                   \n",
      "0.7984531287249386                                                              \n",
      "CrossValMean:                                                                   \n",
      "0.7928486327761025                                                              \n",
      "CrossValMean:                                                                   \n",
      "0.7806244670935245                                                              \n",
      "CrossValMean:                                                                   \n",
      "0.7902636510037815                                                              \n",
      "CrossValMean:                                                                   \n",
      "0.7921483660079396                                                              \n",
      "CrossValMean:                                                                   \n",
      "0.7860798325740319                                                              \n",
      "CrossValMean:                                                                   \n",
      "0.7930230297329492                                                              \n",
      "CrossValMean:                                                                   \n",
      "0.7579072725563247                                                              \n",
      "CrossValMean:                                                                   \n",
      "0.7984943522245509                                                              \n",
      "CrossValMean:                                                                   \n",
      "0.7193567855181742                                                              \n",
      "CrossValMean:                                                                   \n",
      "0.7922770708291488                                                              \n",
      "CrossValMean:                                                                   \n",
      "0.792924105073022                                                               \n",
      "CrossValMean:                                                                   \n",
      "0.7817528566791623                                                              \n",
      "CrossValMean:                                                                   \n",
      "0.7997631881934166                                                              \n",
      "CrossValMean:                                                                   \n",
      "0.7989639454823138                                                              \n",
      "CrossValMean:                                                                   \n",
      "0.7216410538477961                                                              \n",
      "CrossValMean:                                                                   \n",
      "0.7812255455206965                                                              \n",
      "CrossValMean:                                                                   \n",
      "0.7990980348865993                                                              \n",
      "CrossValMean:                                                                   \n",
      "0.7929387396695402                                                              \n",
      "CrossValMean:                                                                   \n",
      "0.7945098667182128                                                              \n",
      "CrossValMean:                                                                   \n",
      "0.790788229637613                                                               \n",
      "CrossValMean:                                                                   \n",
      "0.779301281869383                                                               \n",
      "CrossValMean:                                                                   \n",
      "0.791862170030829                                                               \n",
      "CrossValMean:                                                                   \n",
      "0.7961173949706843                                                              \n",
      "CrossValMean:                                                                   \n",
      "0.7994716931141723                                                              \n",
      "CrossValMean:                                                                   \n",
      "0.7886698247980528                                                              \n",
      "CrossValMean:                                                                   \n",
      "0.7968368586620549                                                              \n",
      "CrossValMean:                                                                   \n",
      "0.7901892876770054                                                              \n",
      "CrossValMean:                                                                   \n",
      "0.7782132401736529                                                              \n",
      "CrossValMean:                                                                   \n",
      "0.7951223383473703                                                              \n",
      "CrossValMean:                                                                   \n",
      "0.7554592424655339                                                              \n",
      "CrossValMean:                                                                   \n",
      "0.7834354573254518                                                              \n",
      "CrossValMean:                                                                   \n",
      "0.7944619263021581                                                              \n",
      "CrossValMean:                                                                   \n",
      "0.7822089322124554                                                              \n",
      "CrossValMean:                                                                   \n",
      "0.7930710598889343                                                              \n",
      "CrossValMean:                                                                   \n",
      "0.7741380739491859                                                              \n",
      "CrossValMean:                                                                   \n",
      "0.7554065729714151                                                              \n",
      "CrossValMean:                                                                   \n",
      "0.7863372810918188                                                              \n",
      "CrossValMean:                                                                   \n",
      "0.7960186065683883                                                              \n",
      "CrossValMean:                                                                   \n",
      "0.7979204048852002                                                              \n",
      "CrossValMean:                                                                   \n",
      "0.793812468045209                                                               \n",
      "CrossValMean:                                                                   \n",
      "0.7903029795630371                                                              \n",
      "CrossValMean:                                                                   \n",
      "0.7989204437398667                                                              \n",
      "CrossValMean:                                                                   \n",
      "0.7823521547726451                                                              \n",
      "CrossValMean:                                                                   \n",
      "0.7942607036753552                                                              \n",
      "CrossValMean:                                                                   \n",
      "0.7975535138729518                                                              \n",
      "CrossValMean:                                                                   \n",
      "0.7849621289859511                                                              \n",
      "CrossValMean:                                                                   \n",
      "0.7938361230718185                                                              \n",
      "CrossValMean:                                                                   \n",
      "0.7569325216668913                                                              \n",
      "CrossValMean:                                                                   \n",
      "0.7931552450643915                                                              \n",
      "CrossValMean:                                                                   \n",
      "0.7284741317834657                                                              \n",
      "CrossValMean:                                                                   \n",
      "0.7940029179476539                                                              \n",
      "CrossValMean:                                                                   \n",
      "0.8001813001229072                                                              \n",
      "CrossValMean:                                                                   \n",
      "0.7793495731845929                                                              \n",
      "CrossValMean:                                                                   \n",
      "0.798104373182392                                                               \n",
      "CrossValMean:                                                                   \n",
      "0.7950326305078839                                                              \n",
      "CrossValMean:                                                                   \n",
      "0.7775575457521926                                                              \n",
      "CrossValMean:                                                                   \n",
      "0.7559377943642431                                                              \n",
      "CrossValMean:                                                                   \n",
      "0.798670990091949                                                               \n",
      "CrossValMean:                                                                   \n",
      "0.7909416903107449                                                              \n",
      "CrossValMean:                                                                   \n",
      "0.7975455376968904                                                              \n",
      "CrossValMean:                                                                   \n",
      "0.788308684089013                                                               \n",
      "CrossValMean:                                                                   \n",
      "0.7272721404182615                                                              \n",
      "CrossValMean:                                                                   \n",
      "0.7975127809666052                                                              \n",
      "CrossValMean:                                                                   \n",
      "0.7981092941333546                                                              \n",
      "CrossValMean:                                                                   \n",
      "0.8007522179835304                                                              \n",
      "CrossValMean:                                                                   \n",
      "0.797246520816189                                                               \n",
      "CrossValMean:                                                                   \n",
      "0.7927295893680469                                                              \n",
      "CrossValMean:                                                                   \n",
      "0.7998478786025778                                                              \n",
      "CrossValMean:                                                                   \n",
      "0.7762394281878489                                                              \n",
      "CrossValMean:                                                                   \n",
      "0.7991830256046084                                                              \n",
      "CrossValMean:                                                                   \n",
      "0.7997970792276703                                                              \n",
      "CrossValMean:                                                                   \n",
      "0.7988075307853115                                                              \n",
      "CrossValMean:                                                                   \n",
      "0.7955657834328038                                                              \n",
      "CrossValMean:                                                                   \n",
      "0.7921565205717943                                                              \n",
      "CrossValMean:                                                                   \n",
      "0.7983517603570982                                                              \n",
      "CrossValMean:                                                                   \n",
      "0.7929197121505531                                                              \n",
      "CrossValMean:                                                                   \n",
      "0.7892312790052978                                                              \n",
      "CrossValMean:                                                                   \n",
      "0.7784123332887505                                                              \n",
      "CrossValMean:                                                                   \n",
      "0.7993435547166418                                                              \n",
      "CrossValMean:                                                                   \n",
      "0.7957963165437685                                                              \n",
      "CrossValMean:                                                                   \n",
      "0.792439335644631                                                               \n",
      "CrossValMean:                                                                   \n",
      "0.7992957512638862                                                              \n",
      "CrossValMean:                                                                   \n",
      "0.7554621096982677                                                              \n",
      "CrossValMean:                                                                   \n",
      "0.7994449306585826                                                              \n",
      "CrossValMean:                                                                   \n",
      "0.7982179687190986                                                              \n",
      "CrossValMean:                                                                   \n",
      "0.7835148795375361                                                              \n",
      "CrossValMean:                                                                   \n",
      "0.7952168048995304                                                              \n",
      "CrossValMean:                                                                   \n",
      "0.7922594520813402                                                              \n",
      "CrossValMean:                                                                   \n",
      "0.7590936222432348                                                              \n",
      "CrossValMean:                                                                   \n",
      "0.7887777508000495                                                              \n",
      "CrossValMean:                                                                   \n",
      "0.796655192392367                                                               \n",
      "CrossValMean:                                                                   \n",
      "0.7919023950943974                                                              \n",
      "CrossValMean:                                                                   \n",
      "0.7948213418688695                                                              \n",
      "CrossValMean:                                                                   \n",
      "0.7974708156819175                                                              \n",
      "CrossValMean:                                                                   \n",
      "0.7923464172778749                                                              \n",
      "CrossValMean:                                                                   \n",
      "0.7805843890654308                                                              \n",
      "CrossValMean:                                                                   \n",
      "0.7986819308828468                                                              \n",
      "CrossValMean:                                                                   \n",
      "0.7910808758872181                                                              \n",
      "100%|██████| 100/100 [03:53<00:00,  2.34s/trial, best loss: 0.19924778201646964]\n",
      "Best:  {'colsample_bylevel': 0.5, 'colsample_bytree': 0.8, 'gamma': 7.0, 'learning_rate': 0.13, 'max_depth': 0, 'n_estimators': 96, 'scale_pos_weight': 5.0, 'subsample': 0.9}\n"
     ]
    }
   ],
   "source": [
    "#defining space for hyperparameters\n",
    "space = {\n",
    "    'max_depth' : hp.choice('max_depth', range(3, 8)),\n",
    "    'learning_rate' : hp.quniform('learning_rate', 0.01, 0.3, 0.01),\n",
    "    'n_estimators' : hp.choice('n_estimators', range(150,650)),\n",
    "    'gamma' : hp.quniform('gamma', 2,10, 1),\n",
    "    'subsample' : hp.quniform('subsample', 0.5, 1, 0.1),\n",
    "    'colsample_bytree' : hp.quniform('colsample_bytree', 0.4, 1.0, 0.1),\n",
    "    'colsample_bylevel' : hp.quniform('colsample_bylevel', 0.5, 1.0, 0.1),\n",
    "    'scale_pos_weight' : hp.quniform('scale_pos_weight', 1, 10, 1)   \n",
    "    }\n",
    "\n",
    "def objective(space):\n",
    "    \n",
    "    \n",
    "    warnings.filterwarnings(action='ignore', category=DeprecationWarning)\n",
    "    classifier = xgb.XGBClassifier(n_estimators = space['n_estimators'],\n",
    "                            max_depth = int(space['max_depth']),\n",
    "                            learning_rate = space['learning_rate'],\n",
    "                            gamma = space['gamma'],\n",
    "                            subsample = space['subsample'],\n",
    "                            colsample_bytree = space['colsample_bytree'],\n",
    "                            colsample_bylevel = space['colsample_bylevel'],\n",
    "                            scale_pos_weight = space['scale_pos_weight'], \n",
    "                            use_label_encoder = False,  eval_metric = 'logloss',\n",
    "                            objective='binary:logistic'\n",
    "                            )\n",
    "    \n",
    "    classifier.fit(X_train, y_train)\n",
    "\n",
    "    # Applying k-Fold Cross Validation using stratifiedkfold to maintain the class distribution in each fold\n",
    "    f2_scores = cross_val_score(estimator = classifier, X = X_train, y = y_train, cv = StratifiedKFold(n_splits=5, \n",
    "                                                            shuffle=True, random_state= 42), scoring = f2_scorer)\n",
    "    CrossValMean = f2_scores.mean()\n",
    "    print(\"CrossValMean:\", CrossValMean)\n",
    "    \n",
    "\n",
    "    return{'loss':1-CrossValMean, 'status': STATUS_OK }\n",
    "\n",
    "trials = Trials()\n",
    "best = fmin(fn=objective,\n",
    "            space=space,\n",
    "            algo=tpe.suggest,\n",
    "            max_evals= 100,\n",
    "            trials=trials,\n",
    "            verbose=True)\n",
    "\n",
    "print(\"Best: \", best) \n",
    "\n"
   ]
  },
  {
   "cell_type": "code",
   "execution_count": 43,
   "id": "0a739f1d-7262-4f74-83ba-14f98d5a94c6",
   "metadata": {},
   "outputs": [
    {
     "data": {
      "text/plain": [
       "{'colsample_bylevel': 0.5,\n",
       " 'colsample_bytree': 0.8,\n",
       " 'gamma': 7.0,\n",
       " 'learning_rate': 0.13,\n",
       " 'max_depth': 0,\n",
       " 'n_estimators': 96,\n",
       " 'scale_pos_weight': 5.0,\n",
       " 'subsample': 0.9}"
      ]
     },
     "execution_count": 43,
     "metadata": {},
     "output_type": "execute_result"
    }
   ],
   "source": [
    "best"
   ]
  },
  {
   "cell_type": "code",
   "execution_count": 44,
   "id": "e8a65819-1d48-469e-ada3-bc46380a6d6f",
   "metadata": {},
   "outputs": [],
   "source": [
    "clf = xgb.XGBClassifier(**best)"
   ]
  },
  {
   "cell_type": "code",
   "execution_count": 45,
   "id": "24358c89-f395-4375-bece-0c57161912cb",
   "metadata": {},
   "outputs": [],
   "source": [
    "#training on train data using best hyperparameters\n",
    "clf = clf.fit(X_train, y_train)"
   ]
  },
  {
   "cell_type": "code",
   "execution_count": 46,
   "id": "4d2fe022-d900-43b5-927e-35ad08498926",
   "metadata": {
    "scrolled": true
   },
   "outputs": [],
   "source": [
    "#predicting probablities\n",
    "test_probs = clf.predict_proba(X_test)[:,1]"
   ]
  },
  {
   "cell_type": "code",
   "execution_count": 47,
   "id": "5026c059-fa97-48d0-a65b-d75a88807ceb",
   "metadata": {},
   "outputs": [],
   "source": [
    "#helper func to get all the scores with different thresholds\n",
    "def get_scores(y_true, y_pred_probs, thresh = 0.5):\n",
    "    y_pred = [1 if i > thresh else 0 for i in y_pred_probs]\n",
    "    mcc_score = matthews_corrcoef(y_true, y_pred)\n",
    "    fscore = f1_score(y_true, y_pred, average='binary')\n",
    "    logloss = log_loss(y_true, y_pred_probs)\n",
    "    acc = accuracy_score(y_true, y_pred)\n",
    "    f2 = fbeta_score(y_true, y_pred, beta=2.0, average='binary')\n",
    "    print(f\"The accuracy is {round(acc*100, 3)}%\")\n",
    "    print(f\"The MCC Score is {mcc_score} \")\n",
    "    print(f\"The F1 Score is {fscore}\")\n",
    "    print(f\"The F2 Score is {f2}\")\n",
    "    print(f\"The Logloss is {logloss}\")\n",
    "    print(\"-\"*50)\n",
    "    cm = confusion_matrix(y_true, y_pred)\n",
    "    tn, fp, fn, tp = cm.ravel()\n",
    "    fpr = round(fp/(fp+tn),5)\n",
    "    fnr = round((fn/(fn+tp)), 5)\n",
    "    print(cm)\n",
    "    print(\"-\"*50)\n",
    "    print(f\"The FPR is {fpr*100}%\")\n",
    "    print(f\"The FNR is {fnr*100}%\")\n",
    "    print(\"-\"*50)"
   ]
  },
  {
   "cell_type": "code",
   "execution_count": null,
   "id": "91a6d002-0c2b-4195-8a71-8ba772da426e",
   "metadata": {},
   "outputs": [],
   "source": [
    "#######"
   ]
  },
  {
   "cell_type": "code",
   "execution_count": 48,
   "id": "7109e9c5-e60f-42b0-9514-49a614667109",
   "metadata": {},
   "outputs": [
    {
     "name": "stdout",
     "output_type": "stream",
     "text": [
      "The accuracy is 94.06%\n",
      "The MCC Score is 0.6905403420111118 \n",
      "The F1 Score is 0.7133534136546185\n",
      "The F2 Score is 0.783179012345679\n",
      "The Logloss is 0.12230232874506038\n",
      "--------------------------------------------------\n",
      "[[16663   867]\n",
      " [  275  1421]]\n",
      "--------------------------------------------------\n",
      "The FPR is 4.946%\n",
      "The FNR is 16.215%\n",
      "--------------------------------------------------\n"
     ]
    }
   ],
   "source": [
    "#with 0.5 threshold\n",
    "get_scores(y_test, test_probs,)"
   ]
  },
  {
   "cell_type": "markdown",
   "id": "05f73634-4a2e-47f7-b36f-b30a2d8d8572",
   "metadata": {},
   "source": [
    "Our FNR is really high.  \n",
    "To improve the model:   \n",
    "      * we can generate more features  \n",
    "      * adjust the threshold\n",
    "    * add more parameters in the space for xgboost for optimization  \n",
    "    * try ensembling different models (usually helps) but make the process more complex for production  \n",
    "    * try getting more instances of minority class  \n",
    "    * try sampling techniques (SMOTE etc)  "
   ]
  },
  {
   "cell_type": "markdown",
   "id": "b1e87ae6-464c-4f3f-af6e-0a1d13bb792d",
   "metadata": {},
   "source": [
    "## Feature Importance"
   ]
  },
  {
   "cell_type": "code",
   "execution_count": 49,
   "id": "eb44474e-5e9f-45e2-a2e6-9a50a5d9f3c2",
   "metadata": {},
   "outputs": [
    {
     "data": {
      "text/plain": [
       "{'cat__gender': 18.57143211364746,\n",
       " 'cat__smoking_history': 19.502422332763672,\n",
       " 'num__bmi': 71.09886932373047,\n",
       " 'bin__heart_disease': 83.66224670410156,\n",
       " 'num__age': 118.40022277832031,\n",
       " 'bin__hypertension': 119.72539520263672,\n",
       " 'num__blood_glucose_level': 314.40130615234375,\n",
       " 'num__HbA1c_level': 448.0339050292969}"
      ]
     },
     "execution_count": 49,
     "metadata": {},
     "output_type": "execute_result"
    }
   ],
   "source": [
    "importances = clf.get_booster().get_score(importance_type=\"gain\")\n",
    "{k: v for k, v in sorted(importances.items(), key=lambda item: item[1])}"
   ]
  },
  {
   "cell_type": "code",
   "execution_count": 50,
   "id": "bc9313e2-e9b8-4715-8fe5-468c1b20e4d1",
   "metadata": {},
   "outputs": [
    {
     "data": {
      "image/png": "[encoded data removed]",
      "text/plain": [
       "<Figure size 640x480 with 1 Axes>"
      ]
     },
     "metadata": {},
     "output_type": "display_data"
    }
   ],
   "source": [
    "fi = pd.DataFrame(data = clf.feature_importances_,\n",
    "             index=clf.feature_names_in_,\n",
    "             columns=['importance'])\n",
    "fi.sort_values('importance').plot(kind='barh', title='Feature Importance')\n",
    "plt.show()"
   ]
  },
  {
   "cell_type": "markdown",
   "id": "dae5a531-9393-4b9a-93d5-08bcded1a98d",
   "metadata": {},
   "source": [
    "Highest value of HB1c_level varible indicates that this feature has a greater impact or contribution to the model's predictions while gender has least impact."
   ]
  },
  {
   "cell_type": "markdown",
   "id": "05510fed-c3d3-4d63-8f00-a51443381a71",
   "metadata": {},
   "source": [
    "### Finding optimal threshold"
   ]
  },
  {
   "cell_type": "markdown",
   "id": "f73b149a-8aea-4147-8ce7-cc3f6f5150eb",
   "metadata": {},
   "source": [
    "Figuring out the best threshold for imbalanced data is crucial when using models that classify things into two groups. The threshold is like a tipping point that decides if something belongs to group 0 or group 1 based on the model's guess. Usually, we start with a default threshold of 0.5—anything above it is considered group 1, and anything below is group 0. This is a common setup, but sometimes we need to adjust it for better results, especially when dealing with imbalanced situations where one group is much rarer than the other.  \n",
    "As in our case instances with diabetes are only 8% of the data"
   ]
  },
  {
   "cell_type": "code",
   "execution_count": null,
   "id": "deb53b00-7a14-4ba5-8f14-5eaebbd12a7f",
   "metadata": {},
   "outputs": [],
   "source": []
  },
  {
   "cell_type": "code",
   "execution_count": 51,
   "id": "17042b38-7002-44aa-bec7-20b38f9178db",
   "metadata": {},
   "outputs": [],
   "source": [
    "fpr, tpr, threshold = roc_curve(y_test, test_probs)"
   ]
  },
  {
   "cell_type": "code",
   "execution_count": 52,
   "id": "e12c3432-5c23-4d8a-9a27-862cb94dd185",
   "metadata": {},
   "outputs": [
    {
     "data": {
      "image/png": "[encoded data removed]",
      "text/plain": [
       "<Figure size 640x480 with 1 Axes>"
      ]
     },
     "metadata": {},
     "output_type": "display_data"
    }
   ],
   "source": [
    "fpr, tpr, threshold = roc_curve(y_test, test_probs)\n",
    "plt.plot(threshold, 1-fpr, label = \"TNR\")\n",
    "plt.plot(threshold, tpr, label = \"TPR\")\n",
    "plt.xlabel('Threshold')\n",
    "# Set the y axis label of the current axis.\n",
    "plt.ylabel('TPR')\n",
    "plt.title('TPR and TNR')\n",
    "# show a legend on the plot\n",
    "plt.legend()\n",
    "plt.xlim([0,1])\n",
    "# Display a figure.\n",
    "plt.show()"
   ]
  },
  {
   "cell_type": "code",
   "execution_count": 53,
   "id": "3f956e7e-1e94-4ebf-b2f3-8b769faf719b",
   "metadata": {},
   "outputs": [
    {
     "name": "stdout",
     "output_type": "stream",
     "text": [
      "The accuracy is 92.333%\n",
      "The MCC Score is 0.6536798372662385 \n",
      "The F1 Score is 0.6699507389162561\n",
      "The F2 Score is 0.7829181494661922\n",
      "The Logloss is 0.12230232874506038\n",
      "--------------------------------------------------\n",
      "[[16256  1274]\n",
      " [  200  1496]]\n",
      "--------------------------------------------------\n",
      "The FPR is 7.268%\n",
      "The FNR is 11.792%\n",
      "--------------------------------------------------\n"
     ]
    }
   ],
   "source": [
    "get_scores(y_test, test_probs, 0.4)"
   ]
  },
  {
   "cell_type": "code",
   "execution_count": 55,
   "id": "f5bbdf37-f13d-4ab6-8182-58c988c73d3b",
   "metadata": {},
   "outputs": [
    {
     "name": "stdout",
     "output_type": "stream",
     "text": [
      "The accuracy is 89.707%\n",
      "The MCC Score is 0.6063846247522228 \n",
      "The F1 Score is 0.6124926571372625\n",
      "The F2 Score is 0.7670426679744973\n",
      "The Logloss is 0.12230232874506038\n",
      "--------------------------------------------------\n",
      "[[15683  1847]\n",
      " [  132  1564]]\n",
      "--------------------------------------------------\n",
      "The FPR is 10.536%\n",
      "The FNR is 7.7829999999999995%\n",
      "--------------------------------------------------\n"
     ]
    }
   ],
   "source": [
    "get_scores(y_test, test_probs, 0.30)"
   ]
  },
  {
   "cell_type": "markdown",
   "id": "c5b1e5eb-2378-465a-aaaf-696281fab433",
   "metadata": {},
   "source": [
    "0.30 is not perfect but muchhhh better than 0.5, so for now we will choose this. deninitely it can be further improved by improving the model.  \n",
    "Though by choosing this number increase the false positive rate but its worth doing it as we dont want to misclassify patients with diabetes."
   ]
  },
  {
   "cell_type": "markdown",
   "id": "2cf0f02f-7586-46d3-a906-9a4675b710d3",
   "metadata": {},
   "source": [
    "###  to get clean data and train model on it"
   ]
  },
  {
   "cell_type": "code",
   "execution_count": 17,
   "id": "e7751368-ab41-44e3-b908-041c50243c7a",
   "metadata": {},
   "outputs": [],
   "source": [
    "data = jb.load(\"data/cleaned_data.joblib\")"
   ]
  },
  {
   "cell_type": "code",
   "execution_count": 18,
   "id": "fd508ff5-0bc4-4b56-9f40-1ebfb4d8406b",
   "metadata": {},
   "outputs": [
    {
     "data": {
      "text/html": [
       "<div>\n",
       "<style scoped>\n",
       "    .dataframe tbody tr th:only-of-type {\n",
       "        vertical-align: middle;\n",
       "    }\n",
       "\n",
       "    .dataframe tbody tr th {\n",
       "        vertical-align: top;\n",
       "    }\n",
       "\n",
       "    .dataframe thead th {\n",
       "        text-align: right;\n",
       "    }\n",
       "</style>\n",
       "<table border=\"1\" class=\"dataframe\">\n",
       "  <thead>\n",
       "    <tr style=\"text-align: right;\">\n",
       "      <th></th>\n",
       "      <th>num__age</th>\n",
       "      <th>num__bmi</th>\n",
       "      <th>num__HbA1c_level</th>\n",
       "      <th>num__blood_glucose_level</th>\n",
       "      <th>cat__gender</th>\n",
       "      <th>cat__smoking_history</th>\n",
       "      <th>bin__hypertension</th>\n",
       "      <th>bin__heart_disease</th>\n",
       "      <th>diabetes</th>\n",
       "    </tr>\n",
       "  </thead>\n",
       "  <tbody>\n",
       "    <tr>\n",
       "      <th>0</th>\n",
       "      <td>80.0</td>\n",
       "      <td>25.19</td>\n",
       "      <td>6.6</td>\n",
       "      <td>140.0</td>\n",
       "      <td>0.0</td>\n",
       "      <td>4.0</td>\n",
       "      <td>0.0</td>\n",
       "      <td>1.0</td>\n",
       "      <td>0</td>\n",
       "    </tr>\n",
       "    <tr>\n",
       "      <th>1</th>\n",
       "      <td>54.0</td>\n",
       "      <td>27.32</td>\n",
       "      <td>6.6</td>\n",
       "      <td>80.0</td>\n",
       "      <td>0.0</td>\n",
       "      <td>0.0</td>\n",
       "      <td>0.0</td>\n",
       "      <td>0.0</td>\n",
       "      <td>0</td>\n",
       "    </tr>\n",
       "    <tr>\n",
       "      <th>2</th>\n",
       "      <td>28.0</td>\n",
       "      <td>27.32</td>\n",
       "      <td>5.7</td>\n",
       "      <td>158.0</td>\n",
       "      <td>1.0</td>\n",
       "      <td>4.0</td>\n",
       "      <td>0.0</td>\n",
       "      <td>0.0</td>\n",
       "      <td>0</td>\n",
       "    </tr>\n",
       "    <tr>\n",
       "      <th>3</th>\n",
       "      <td>36.0</td>\n",
       "      <td>23.45</td>\n",
       "      <td>5.0</td>\n",
       "      <td>155.0</td>\n",
       "      <td>0.0</td>\n",
       "      <td>1.0</td>\n",
       "      <td>0.0</td>\n",
       "      <td>0.0</td>\n",
       "      <td>0</td>\n",
       "    </tr>\n",
       "    <tr>\n",
       "      <th>4</th>\n",
       "      <td>76.0</td>\n",
       "      <td>20.14</td>\n",
       "      <td>4.8</td>\n",
       "      <td>155.0</td>\n",
       "      <td>1.0</td>\n",
       "      <td>1.0</td>\n",
       "      <td>1.0</td>\n",
       "      <td>1.0</td>\n",
       "      <td>0</td>\n",
       "    </tr>\n",
       "  </tbody>\n",
       "</table>\n",
       "</div>"
      ],
      "text/plain": [
       "   num__age  num__bmi  num__HbA1c_level  num__blood_glucose_level  \\\n",
       "0      80.0     25.19               6.6                     140.0   \n",
       "1      54.0     27.32               6.6                      80.0   \n",
       "2      28.0     27.32               5.7                     158.0   \n",
       "3      36.0     23.45               5.0                     155.0   \n",
       "4      76.0     20.14               4.8                     155.0   \n",
       "\n",
       "   cat__gender  cat__smoking_history  bin__hypertension  bin__heart_disease  \\\n",
       "0          0.0                   4.0                0.0                 1.0   \n",
       "1          0.0                   0.0                0.0                 0.0   \n",
       "2          1.0                   4.0                0.0                 0.0   \n",
       "3          0.0                   1.0                0.0                 0.0   \n",
       "4          1.0                   1.0                1.0                 1.0   \n",
       "\n",
       "   diabetes  \n",
       "0         0  \n",
       "1         0  \n",
       "2         0  \n",
       "3         0  \n",
       "4         0  "
      ]
     },
     "execution_count": 18,
     "metadata": {},
     "output_type": "execute_result"
    }
   ],
   "source": [
    "data.head()"
   ]
  },
  {
   "cell_type": "code",
   "execution_count": 19,
   "id": "90e160a9-8059-407f-b406-ad77e3ae79fa",
   "metadata": {},
   "outputs": [
    {
     "data": {
      "text/plain": [
       "Index(['num__age', 'num__bmi', 'num__HbA1c_level', 'num__blood_glucose_level',\n",
       "       'cat__gender', 'cat__smoking_history', 'bin__hypertension',\n",
       "       'bin__heart_disease', 'diabetes'],\n",
       "      dtype='object')"
      ]
     },
     "execution_count": 19,
     "metadata": {},
     "output_type": "execute_result"
    }
   ],
   "source": [
    "data.columns"
   ]
  },
  {
   "cell_type": "code",
   "execution_count": 21,
   "id": "b8559ef1-dcaf-46b4-a5e5-06eae3bf7b15",
   "metadata": {},
   "outputs": [],
   "source": [
    "feats = ['num__age', 'num__bmi', 'num__HbA1c_level', 'num__blood_glucose_level',\n",
    "       'cat__gender', 'cat__smoking_history', 'bin__hypertension',\n",
    "       'bin__heart_disease']\n",
    "target = 'diabetes'"
   ]
  },
  {
   "cell_type": "code",
   "execution_count": 13,
   "id": "a0faee8a-0600-4edc-874c-0de09036c65e",
   "metadata": {},
   "outputs": [],
   "source": [
    "best = {'colsample_bylevel': 0.7000000000000001,\n",
    " 'colsample_bytree': 0.6000000000000001,\n",
    " 'gamma': 5.0,\n",
    " 'learning_rate': 0.12,\n",
    " 'max_depth': 0,\n",
    " 'n_estimators': 88,\n",
    " 'scale_pos_weight': 6.0,\n",
    " 'subsample': 0.6000000000000001}"
   ]
  },
  {
   "cell_type": "code",
   "execution_count": 22,
   "id": "04a5ca2f-02bc-4183-9722-a58ee4511fc8",
   "metadata": {},
   "outputs": [],
   "source": [
    "def create_model(X):\n",
    "    train_x = X[feats]\n",
    "    train_y = X[target]\n",
    "\n",
    "    # train the model\n",
    "    model = xgb.XGBClassifier(**best, objective=\"binary:logistic\")\n",
    "    model.fit(train_x, train_y)\n",
    "\n",
    "    return model"
   ]
  },
  {
   "cell_type": "code",
   "execution_count": 23,
   "id": "571c3da6-33b2-461b-9d97-df387011438d",
   "metadata": {},
   "outputs": [],
   "source": [
    "model = create_model(data)"
   ]
  },
  {
   "cell_type": "code",
   "execution_count": null,
   "id": "e3a92c37-1c19-41f1-b040-7b67f74bcc72",
   "metadata": {},
   "outputs": [],
   "source": [
    "#to save model\n",
    "# serialize model\n",
    "    with open(\"model.pkl\", \"wb\") as f:\n",
    "        pickle.dump(model, f)\n"
   ]
  },
  {
   "cell_type": "code",
   "execution_count": null,
   "id": "05d30c17-fdea-40f3-8cdf-4dd24000907c",
   "metadata": {},
   "outputs": [],
   "source": []
  },
  {
   "cell_type": "markdown",
   "id": "bff81ddd-ebf4-43f3-8d20-ba2d45f16341",
   "metadata": {},
   "source": [
    "### creating dummy test data"
   ]
  },
  {
   "cell_type": "code",
   "execution_count": 33,
   "id": "b935d4e1-01b9-4ba7-98f1-5272ce138119",
   "metadata": {},
   "outputs": [
    {
     "name": "stdout",
     "output_type": "stream",
     "text": [
      "   gender  age  hypertension  heart_disease smoking_history        bmi  \\\n",
      "0    Male   64             1              0           never  19.551518   \n",
      "1  Female   79             1              0          former  33.269756   \n",
      "2    Male   68             1              0            ever  71.403311   \n",
      "3    Male   61             1              1          former  32.361785   \n",
      "4    Male   72             1              0     not current  44.683809   \n",
      "\n",
      "   HbA1c_level  blood_glucose_level  diabetes  \n",
      "0     8.623468           173.842699       NaN  \n",
      "1     8.386697           158.653185       NaN  \n",
      "2     5.289708           105.143738       NaN  \n",
      "3     7.299920           200.041381       NaN  \n",
      "4     8.086111           120.539025       NaN  \n"
     ]
    }
   ],
   "source": [
    "# Set a seed for reproducibility\n",
    "np.random.seed(42)\n",
    "\n",
    "# Defining the number of rows for the DataFrame\n",
    "num_rows = 50\n",
    "\n",
    "# Generate random values for each column\n",
    "data_temp = {\n",
    "    'gender': np.random.choice(['Male', 'Female'], size=num_rows),\n",
    "    'age': np.random.randint(18, 80, size=num_rows),\n",
    "    'hypertension': np.random.choice([0, 1], size=num_rows),\n",
    "    'heart_disease': np.random.choice([0, 1], size=num_rows),\n",
    "    'smoking_history': np.random.choice(['never', 'No Info', 'current', 'former', 'ever', 'not current'], size=num_rows),\n",
    "    'bmi': np.random.uniform(12, 75, size=num_rows),\n",
    "    'HbA1c_level': np.random.uniform(4, 9, size=num_rows),\n",
    "    'blood_glucose_level': np.random.uniform(70, 250, size=num_rows),\n",
    "}\n",
    "\n",
    "# Create the DataFrame\n",
    "test_df = pd.DataFrame(data_temp)\n",
    "test_df['diabetes'] = np.nan\n",
    "\n",
    "# Display the DataFrame\n",
    "print(test_df.head())"
   ]
  },
  {
   "cell_type": "code",
   "execution_count": null,
   "id": "a9050c32-e7c9-49f5-8619-f3375342e3d4",
   "metadata": {},
   "outputs": [],
   "source": [
    "#transforming the test data"
   ]
  },
  {
   "cell_type": "code",
   "execution_count": 35,
   "id": "08a26e1e-864b-4b2e-83b2-5e7848c0bac6",
   "metadata": {},
   "outputs": [],
   "source": [
    "# Fit and transform data using the pipeline\n",
    "transformed_data = pipeline.fit_transform(test_df)\n",
    "feature_names = preprocessor.get_feature_names_out()\n",
    "# Creating a DataFrame with the transformed data and feature names\n",
    "df_transformed = pd.DataFrame(transformed_data, columns=feature_names,)"
   ]
  },
  {
   "cell_type": "code",
   "execution_count": 26,
   "id": "e81c8168-c2d7-43fd-83b9-ea459a355976",
   "metadata": {},
   "outputs": [],
   "source": [
    "def get_predictions(model, x):\n",
    "    test_prob = model.predict_proba(x)[:, 1]\n",
    "    label = [1 if i > threshold else 0 for i in test_prob]\n",
    "\n",
    "    return label"
   ]
  },
  {
   "cell_type": "code",
   "execution_count": 38,
   "id": "4c4c3fbe-13af-4ab8-9562-c9b8a1d105de",
   "metadata": {
    "scrolled": true
   },
   "outputs": [
    {
     "data": {
      "text/plain": [
       "[1,\n",
       " 1,\n",
       " 0,\n",
       " 1,\n",
       " 1,\n",
       " 0,\n",
       " 1,\n",
       " 0,\n",
       " 1,\n",
       " 1,\n",
       " 1,\n",
       " 1,\n",
       " 0,\n",
       " 1,\n",
       " 1,\n",
       " 1,\n",
       " 1,\n",
       " 1,\n",
       " 1,\n",
       " 0,\n",
       " 1,\n",
       " 1,\n",
       " 1,\n",
       " 0,\n",
       " 1,\n",
       " 1,\n",
       " 0,\n",
       " 0,\n",
       " 1,\n",
       " 1,\n",
       " 1,\n",
       " 0,\n",
       " 1,\n",
       " 0,\n",
       " 0,\n",
       " 1,\n",
       " 1,\n",
       " 1,\n",
       " 1,\n",
       " 1,\n",
       " 1,\n",
       " 1,\n",
       " 0,\n",
       " 0,\n",
       " 1,\n",
       " 1,\n",
       " 1,\n",
       " 1,\n",
       " 1,\n",
       " 0]"
      ]
     },
     "execution_count": 38,
     "metadata": {},
     "output_type": "execute_result"
    }
   ],
   "source": [
    "threshold = 0.35\n",
    "get_predictions(model, df_transformed)"
   ]
  },
  {
   "cell_type": "code",
   "execution_count": 34,
   "id": "173b81f7-b6ed-42b2-9320-d6f5afe6d9b1",
   "metadata": {
    "scrolled": true
   },
   "outputs": [
    {
     "data": {
      "text/html": [
       "<div>\n",
       "<style scoped>\n",
       "    .dataframe tbody tr th:only-of-type {\n",
       "        vertical-align: middle;\n",
       "    }\n",
       "\n",
       "    .dataframe tbody tr th {\n",
       "        vertical-align: top;\n",
       "    }\n",
       "\n",
       "    .dataframe thead th {\n",
       "        text-align: right;\n",
       "    }\n",
       "</style>\n",
       "<table border=\"1\" class=\"dataframe\">\n",
       "  <thead>\n",
       "    <tr style=\"text-align: right;\">\n",
       "      <th></th>\n",
       "      <th>gender</th>\n",
       "      <th>age</th>\n",
       "      <th>hypertension</th>\n",
       "      <th>heart_disease</th>\n",
       "      <th>smoking_history</th>\n",
       "      <th>bmi</th>\n",
       "      <th>HbA1c_level</th>\n",
       "      <th>blood_glucose_level</th>\n",
       "      <th>diabetes</th>\n",
       "    </tr>\n",
       "  </thead>\n",
       "  <tbody>\n",
       "    <tr>\n",
       "      <th>0</th>\n",
       "      <td>Male</td>\n",
       "      <td>64</td>\n",
       "      <td>1</td>\n",
       "      <td>0</td>\n",
       "      <td>never</td>\n",
       "      <td>19.551518</td>\n",
       "      <td>8.623468</td>\n",
       "      <td>173.842699</td>\n",
       "      <td>NaN</td>\n",
       "    </tr>\n",
       "    <tr>\n",
       "      <th>1</th>\n",
       "      <td>Female</td>\n",
       "      <td>79</td>\n",
       "      <td>1</td>\n",
       "      <td>0</td>\n",
       "      <td>former</td>\n",
       "      <td>33.269756</td>\n",
       "      <td>8.386697</td>\n",
       "      <td>158.653185</td>\n",
       "      <td>NaN</td>\n",
       "    </tr>\n",
       "    <tr>\n",
       "      <th>2</th>\n",
       "      <td>Male</td>\n",
       "      <td>68</td>\n",
       "      <td>1</td>\n",
       "      <td>0</td>\n",
       "      <td>ever</td>\n",
       "      <td>71.403311</td>\n",
       "      <td>5.289708</td>\n",
       "      <td>105.143738</td>\n",
       "      <td>NaN</td>\n",
       "    </tr>\n",
       "    <tr>\n",
       "      <th>3</th>\n",
       "      <td>Male</td>\n",
       "      <td>61</td>\n",
       "      <td>1</td>\n",
       "      <td>1</td>\n",
       "      <td>former</td>\n",
       "      <td>32.361785</td>\n",
       "      <td>7.299920</td>\n",
       "      <td>200.041381</td>\n",
       "      <td>NaN</td>\n",
       "    </tr>\n",
       "    <tr>\n",
       "      <th>4</th>\n",
       "      <td>Male</td>\n",
       "      <td>72</td>\n",
       "      <td>1</td>\n",
       "      <td>0</td>\n",
       "      <td>not current</td>\n",
       "      <td>44.683809</td>\n",
       "      <td>8.086111</td>\n",
       "      <td>120.539025</td>\n",
       "      <td>NaN</td>\n",
       "    </tr>\n",
       "    <tr>\n",
       "      <th>5</th>\n",
       "      <td>Female</td>\n",
       "      <td>69</td>\n",
       "      <td>1</td>\n",
       "      <td>1</td>\n",
       "      <td>ever</td>\n",
       "      <td>56.290194</td>\n",
       "      <td>6.776004</td>\n",
       "      <td>74.376874</td>\n",
       "      <td>NaN</td>\n",
       "    </tr>\n",
       "    <tr>\n",
       "      <th>6</th>\n",
       "      <td>Male</td>\n",
       "      <td>74</td>\n",
       "      <td>1</td>\n",
       "      <td>0</td>\n",
       "      <td>ever</td>\n",
       "      <td>34.908665</td>\n",
       "      <td>6.648253</td>\n",
       "      <td>186.185013</td>\n",
       "      <td>NaN</td>\n",
       "    </tr>\n",
       "    <tr>\n",
       "      <th>7</th>\n",
       "      <td>Male</td>\n",
       "      <td>20</td>\n",
       "      <td>0</td>\n",
       "      <td>1</td>\n",
       "      <td>current</td>\n",
       "      <td>73.222271</td>\n",
       "      <td>5.209261</td>\n",
       "      <td>101.879922</td>\n",
       "      <td>NaN</td>\n",
       "    </tr>\n",
       "    <tr>\n",
       "      <th>8</th>\n",
       "      <td>Male</td>\n",
       "      <td>54</td>\n",
       "      <td>1</td>\n",
       "      <td>0</td>\n",
       "      <td>ever</td>\n",
       "      <td>72.634180</td>\n",
       "      <td>4.465514</td>\n",
       "      <td>239.282545</td>\n",
       "      <td>NaN</td>\n",
       "    </tr>\n",
       "    <tr>\n",
       "      <th>9</th>\n",
       "      <td>Female</td>\n",
       "      <td>68</td>\n",
       "      <td>0</td>\n",
       "      <td>0</td>\n",
       "      <td>former</td>\n",
       "      <td>27.862285</td>\n",
       "      <td>8.486079</td>\n",
       "      <td>241.707144</td>\n",
       "      <td>NaN</td>\n",
       "    </tr>\n",
       "    <tr>\n",
       "      <th>10</th>\n",
       "      <td>Male</td>\n",
       "      <td>24</td>\n",
       "      <td>1</td>\n",
       "      <td>1</td>\n",
       "      <td>ever</td>\n",
       "      <td>43.326656</td>\n",
       "      <td>8.502090</td>\n",
       "      <td>234.675590</td>\n",
       "      <td>NaN</td>\n",
       "    </tr>\n",
       "    <tr>\n",
       "      <th>11</th>\n",
       "      <td>Male</td>\n",
       "      <td>38</td>\n",
       "      <td>1</td>\n",
       "      <td>1</td>\n",
       "      <td>current</td>\n",
       "      <td>30.955334</td>\n",
       "      <td>7.165507</td>\n",
       "      <td>136.628566</td>\n",
       "      <td>NaN</td>\n",
       "    </tr>\n",
       "    <tr>\n",
       "      <th>12</th>\n",
       "      <td>Male</td>\n",
       "      <td>26</td>\n",
       "      <td>0</td>\n",
       "      <td>1</td>\n",
       "      <td>current</td>\n",
       "      <td>29.944951</td>\n",
       "      <td>5.695149</td>\n",
       "      <td>72.782191</td>\n",
       "      <td>NaN</td>\n",
       "    </tr>\n",
       "    <tr>\n",
       "      <th>13</th>\n",
       "      <td>Male</td>\n",
       "      <td>56</td>\n",
       "      <td>1</td>\n",
       "      <td>0</td>\n",
       "      <td>not current</td>\n",
       "      <td>14.323878</td>\n",
       "      <td>5.746048</td>\n",
       "      <td>237.097341</td>\n",
       "      <td>NaN</td>\n",
       "    </tr>\n",
       "    <tr>\n",
       "      <th>14</th>\n",
       "      <td>Female</td>\n",
       "      <td>35</td>\n",
       "      <td>0</td>\n",
       "      <td>1</td>\n",
       "      <td>former</td>\n",
       "      <td>50.402553</td>\n",
       "      <td>7.629778</td>\n",
       "      <td>147.073147</td>\n",
       "      <td>NaN</td>\n",
       "    </tr>\n",
       "    <tr>\n",
       "      <th>15</th>\n",
       "      <td>Male</td>\n",
       "      <td>21</td>\n",
       "      <td>1</td>\n",
       "      <td>0</td>\n",
       "      <td>No Info</td>\n",
       "      <td>43.668778</td>\n",
       "      <td>8.485551</td>\n",
       "      <td>243.997867</td>\n",
       "      <td>NaN</td>\n",
       "    </tr>\n",
       "    <tr>\n",
       "      <th>16</th>\n",
       "      <td>Female</td>\n",
       "      <td>42</td>\n",
       "      <td>1</td>\n",
       "      <td>0</td>\n",
       "      <td>No Info</td>\n",
       "      <td>15.243161</td>\n",
       "      <td>8.435432</td>\n",
       "      <td>243.451596</td>\n",
       "      <td>NaN</td>\n",
       "    </tr>\n",
       "    <tr>\n",
       "      <th>17</th>\n",
       "      <td>Female</td>\n",
       "      <td>77</td>\n",
       "      <td>0</td>\n",
       "      <td>1</td>\n",
       "      <td>ever</td>\n",
       "      <td>29.554727</td>\n",
       "      <td>7.899378</td>\n",
       "      <td>223.541702</td>\n",
       "      <td>NaN</td>\n",
       "    </tr>\n",
       "    <tr>\n",
       "      <th>18</th>\n",
       "      <td>Female</td>\n",
       "      <td>31</td>\n",
       "      <td>1</td>\n",
       "      <td>1</td>\n",
       "      <td>not current</td>\n",
       "      <td>69.220751</td>\n",
       "      <td>7.210158</td>\n",
       "      <td>123.000801</td>\n",
       "      <td>NaN</td>\n",
       "    </tr>\n",
       "    <tr>\n",
       "      <th>19</th>\n",
       "      <td>Male</td>\n",
       "      <td>67</td>\n",
       "      <td>0</td>\n",
       "      <td>0</td>\n",
       "      <td>never</td>\n",
       "      <td>27.092399</td>\n",
       "      <td>4.420700</td>\n",
       "      <td>139.317591</td>\n",
       "      <td>NaN</td>\n",
       "    </tr>\n",
       "    <tr>\n",
       "      <th>20</th>\n",
       "      <td>Female</td>\n",
       "      <td>75</td>\n",
       "      <td>1</td>\n",
       "      <td>0</td>\n",
       "      <td>ever</td>\n",
       "      <td>21.128377</td>\n",
       "      <td>4.808144</td>\n",
       "      <td>223.204601</td>\n",
       "      <td>NaN</td>\n",
       "    </tr>\n",
       "    <tr>\n",
       "      <th>21</th>\n",
       "      <td>Male</td>\n",
       "      <td>26</td>\n",
       "      <td>0</td>\n",
       "      <td>1</td>\n",
       "      <td>not current</td>\n",
       "      <td>42.835524</td>\n",
       "      <td>8.492771</td>\n",
       "      <td>127.045961</td>\n",
       "      <td>NaN</td>\n",
       "    </tr>\n",
       "    <tr>\n",
       "      <th>22</th>\n",
       "      <td>Female</td>\n",
       "      <td>43</td>\n",
       "      <td>0</td>\n",
       "      <td>1</td>\n",
       "      <td>former</td>\n",
       "      <td>74.095979</td>\n",
       "      <td>7.032145</td>\n",
       "      <td>100.508694</td>\n",
       "      <td>NaN</td>\n",
       "    </tr>\n",
       "    <tr>\n",
       "      <th>23</th>\n",
       "      <td>Female</td>\n",
       "      <td>70</td>\n",
       "      <td>1</td>\n",
       "      <td>1</td>\n",
       "      <td>former</td>\n",
       "      <td>27.249482</td>\n",
       "      <td>4.045985</td>\n",
       "      <td>170.224227</td>\n",
       "      <td>NaN</td>\n",
       "    </tr>\n",
       "    <tr>\n",
       "      <th>24</th>\n",
       "      <td>Female</td>\n",
       "      <td>19</td>\n",
       "      <td>1</td>\n",
       "      <td>0</td>\n",
       "      <td>former</td>\n",
       "      <td>54.344539</td>\n",
       "      <td>4.507358</td>\n",
       "      <td>238.507859</td>\n",
       "      <td>NaN</td>\n",
       "    </tr>\n",
       "    <tr>\n",
       "      <th>25</th>\n",
       "      <td>Female</td>\n",
       "      <td>37</td>\n",
       "      <td>0</td>\n",
       "      <td>0</td>\n",
       "      <td>former</td>\n",
       "      <td>59.982036</td>\n",
       "      <td>7.317509</td>\n",
       "      <td>195.285363</td>\n",
       "      <td>NaN</td>\n",
       "    </tr>\n",
       "    <tr>\n",
       "      <th>26</th>\n",
       "      <td>Female</td>\n",
       "      <td>45</td>\n",
       "      <td>1</td>\n",
       "      <td>0</td>\n",
       "      <td>former</td>\n",
       "      <td>26.971165</td>\n",
       "      <td>4.025308</td>\n",
       "      <td>172.611011</td>\n",
       "      <td>NaN</td>\n",
       "    </tr>\n",
       "    <tr>\n",
       "      <th>27</th>\n",
       "      <td>Female</td>\n",
       "      <td>64</td>\n",
       "      <td>1</td>\n",
       "      <td>0</td>\n",
       "      <td>not current</td>\n",
       "      <td>57.877630</td>\n",
       "      <td>4.804040</td>\n",
       "      <td>87.491769</td>\n",
       "      <td>NaN</td>\n",
       "    </tr>\n",
       "    <tr>\n",
       "      <th>28</th>\n",
       "      <td>Female</td>\n",
       "      <td>77</td>\n",
       "      <td>1</td>\n",
       "      <td>0</td>\n",
       "      <td>not current</td>\n",
       "      <td>35.170337</td>\n",
       "      <td>6.743669</td>\n",
       "      <td>180.701301</td>\n",
       "      <td>NaN</td>\n",
       "    </tr>\n",
       "    <tr>\n",
       "      <th>29</th>\n",
       "      <td>Female</td>\n",
       "      <td>24</td>\n",
       "      <td>0</td>\n",
       "      <td>0</td>\n",
       "      <td>current</td>\n",
       "      <td>51.835267</td>\n",
       "      <td>7.459476</td>\n",
       "      <td>248.209693</td>\n",
       "      <td>NaN</td>\n",
       "    </tr>\n",
       "    <tr>\n",
       "      <th>30</th>\n",
       "      <td>Male</td>\n",
       "      <td>61</td>\n",
       "      <td>0</td>\n",
       "      <td>1</td>\n",
       "      <td>No Info</td>\n",
       "      <td>51.912372</td>\n",
       "      <td>7.259806</td>\n",
       "      <td>95.215123</td>\n",
       "      <td>NaN</td>\n",
       "    </tr>\n",
       "    <tr>\n",
       "      <th>31</th>\n",
       "      <td>Male</td>\n",
       "      <td>78</td>\n",
       "      <td>0</td>\n",
       "      <td>0</td>\n",
       "      <td>former</td>\n",
       "      <td>45.753805</td>\n",
       "      <td>5.121347</td>\n",
       "      <td>163.299337</td>\n",
       "      <td>NaN</td>\n",
       "    </tr>\n",
       "    <tr>\n",
       "      <th>32</th>\n",
       "      <td>Female</td>\n",
       "      <td>25</td>\n",
       "      <td>0</td>\n",
       "      <td>0</td>\n",
       "      <td>never</td>\n",
       "      <td>17.688256</td>\n",
       "      <td>7.560896</td>\n",
       "      <td>227.927153</td>\n",
       "      <td>NaN</td>\n",
       "    </tr>\n",
       "    <tr>\n",
       "      <th>33</th>\n",
       "      <td>Female</td>\n",
       "      <td>64</td>\n",
       "      <td>0</td>\n",
       "      <td>0</td>\n",
       "      <td>not current</td>\n",
       "      <td>64.624057</td>\n",
       "      <td>5.186245</td>\n",
       "      <td>203.338351</td>\n",
       "      <td>NaN</td>\n",
       "    </tr>\n",
       "    <tr>\n",
       "      <th>34</th>\n",
       "      <td>Female</td>\n",
       "      <td>52</td>\n",
       "      <td>0</td>\n",
       "      <td>1</td>\n",
       "      <td>never</td>\n",
       "      <td>32.209144</td>\n",
       "      <td>5.626998</td>\n",
       "      <td>195.462833</td>\n",
       "      <td>NaN</td>\n",
       "    </tr>\n",
       "    <tr>\n",
       "      <th>35</th>\n",
       "      <td>Male</td>\n",
       "      <td>31</td>\n",
       "      <td>0</td>\n",
       "      <td>0</td>\n",
       "      <td>never</td>\n",
       "      <td>23.750666</td>\n",
       "      <td>7.732457</td>\n",
       "      <td>196.447135</td>\n",
       "      <td>NaN</td>\n",
       "    </tr>\n",
       "    <tr>\n",
       "      <th>36</th>\n",
       "      <td>Female</td>\n",
       "      <td>34</td>\n",
       "      <td>0</td>\n",
       "      <td>0</td>\n",
       "      <td>never</td>\n",
       "      <td>14.568834</td>\n",
       "      <td>7.248164</td>\n",
       "      <td>134.708407</td>\n",
       "      <td>NaN</td>\n",
       "    </tr>\n",
       "    <tr>\n",
       "      <th>37</th>\n",
       "      <td>Male</td>\n",
       "      <td>53</td>\n",
       "      <td>0</td>\n",
       "      <td>1</td>\n",
       "      <td>current</td>\n",
       "      <td>49.226255</td>\n",
       "      <td>8.246117</td>\n",
       "      <td>122.846532</td>\n",
       "      <td>NaN</td>\n",
       "    </tr>\n",
       "    <tr>\n",
       "      <th>38</th>\n",
       "      <td>Male</td>\n",
       "      <td>67</td>\n",
       "      <td>1</td>\n",
       "      <td>0</td>\n",
       "      <td>not current</td>\n",
       "      <td>54.686555</td>\n",
       "      <td>7.288064</td>\n",
       "      <td>215.685008</td>\n",
       "      <td>NaN</td>\n",
       "    </tr>\n",
       "    <tr>\n",
       "      <th>39</th>\n",
       "      <td>Male</td>\n",
       "      <td>57</td>\n",
       "      <td>0</td>\n",
       "      <td>0</td>\n",
       "      <td>never</td>\n",
       "      <td>13.045033</td>\n",
       "      <td>6.841543</td>\n",
       "      <td>215.820411</td>\n",
       "      <td>NaN</td>\n",
       "    </tr>\n",
       "    <tr>\n",
       "      <th>40</th>\n",
       "      <td>Male</td>\n",
       "      <td>21</td>\n",
       "      <td>1</td>\n",
       "      <td>0</td>\n",
       "      <td>former</td>\n",
       "      <td>44.261863</td>\n",
       "      <td>4.468374</td>\n",
       "      <td>226.073017</td>\n",
       "      <td>NaN</td>\n",
       "    </tr>\n",
       "    <tr>\n",
       "      <th>41</th>\n",
       "      <td>Male</td>\n",
       "      <td>19</td>\n",
       "      <td>1</td>\n",
       "      <td>0</td>\n",
       "      <td>ever</td>\n",
       "      <td>26.269234</td>\n",
       "      <td>5.838579</td>\n",
       "      <td>234.383299</td>\n",
       "      <td>NaN</td>\n",
       "    </tr>\n",
       "    <tr>\n",
       "      <th>42</th>\n",
       "      <td>Female</td>\n",
       "      <td>79</td>\n",
       "      <td>1</td>\n",
       "      <td>0</td>\n",
       "      <td>never</td>\n",
       "      <td>52.645886</td>\n",
       "      <td>5.326012</td>\n",
       "      <td>162.041632</td>\n",
       "      <td>NaN</td>\n",
       "    </tr>\n",
       "    <tr>\n",
       "      <th>43</th>\n",
       "      <td>Female</td>\n",
       "      <td>23</td>\n",
       "      <td>0</td>\n",
       "      <td>1</td>\n",
       "      <td>current</td>\n",
       "      <td>22.985085</td>\n",
       "      <td>5.219948</td>\n",
       "      <td>160.272933</td>\n",
       "      <td>NaN</td>\n",
       "    </tr>\n",
       "    <tr>\n",
       "      <th>44</th>\n",
       "      <td>Female</td>\n",
       "      <td>71</td>\n",
       "      <td>0</td>\n",
       "      <td>1</td>\n",
       "      <td>not current</td>\n",
       "      <td>55.529078</td>\n",
       "      <td>8.865053</td>\n",
       "      <td>213.693132</td>\n",
       "      <td>NaN</td>\n",
       "    </tr>\n",
       "    <tr>\n",
       "      <th>45</th>\n",
       "      <td>Female</td>\n",
       "      <td>59</td>\n",
       "      <td>0</td>\n",
       "      <td>1</td>\n",
       "      <td>current</td>\n",
       "      <td>36.364327</td>\n",
       "      <td>5.965489</td>\n",
       "      <td>186.993508</td>\n",
       "      <td>NaN</td>\n",
       "    </tr>\n",
       "    <tr>\n",
       "      <th>46</th>\n",
       "      <td>Female</td>\n",
       "      <td>21</td>\n",
       "      <td>0</td>\n",
       "      <td>0</td>\n",
       "      <td>never</td>\n",
       "      <td>71.013989</td>\n",
       "      <td>8.460233</td>\n",
       "      <td>196.354038</td>\n",
       "      <td>NaN</td>\n",
       "    </tr>\n",
       "    <tr>\n",
       "      <th>47</th>\n",
       "      <td>Male</td>\n",
       "      <td>71</td>\n",
       "      <td>1</td>\n",
       "      <td>0</td>\n",
       "      <td>not current</td>\n",
       "      <td>20.663819</td>\n",
       "      <td>7.155693</td>\n",
       "      <td>213.242680</td>\n",
       "      <td>NaN</td>\n",
       "    </tr>\n",
       "    <tr>\n",
       "      <th>48</th>\n",
       "      <td>Female</td>\n",
       "      <td>46</td>\n",
       "      <td>0</td>\n",
       "      <td>0</td>\n",
       "      <td>ever</td>\n",
       "      <td>33.487180</td>\n",
       "      <td>7.974057</td>\n",
       "      <td>230.200962</td>\n",
       "      <td>NaN</td>\n",
       "    </tr>\n",
       "    <tr>\n",
       "      <th>49</th>\n",
       "      <td>Female</td>\n",
       "      <td>35</td>\n",
       "      <td>0</td>\n",
       "      <td>1</td>\n",
       "      <td>never</td>\n",
       "      <td>19.148832</td>\n",
       "      <td>6.513185</td>\n",
       "      <td>130.839128</td>\n",
       "      <td>NaN</td>\n",
       "    </tr>\n",
       "  </tbody>\n",
       "</table>\n",
       "</div>"
      ],
      "text/plain": [
       "    gender  age  hypertension  heart_disease smoking_history        bmi  \\\n",
       "0     Male   64             1              0           never  19.551518   \n",
       "1   Female   79             1              0          former  33.269756   \n",
       "2     Male   68             1              0            ever  71.403311   \n",
       "3     Male   61             1              1          former  32.361785   \n",
       "4     Male   72             1              0     not current  44.683809   \n",
       "5   Female   69             1              1            ever  56.290194   \n",
       "6     Male   74             1              0            ever  34.908665   \n",
       "7     Male   20             0              1         current  73.222271   \n",
       "8     Male   54             1              0            ever  72.634180   \n",
       "9   Female   68             0              0          former  27.862285   \n",
       "10    Male   24             1              1            ever  43.326656   \n",
       "11    Male   38             1              1         current  30.955334   \n",
       "12    Male   26             0              1         current  29.944951   \n",
       "13    Male   56             1              0     not current  14.323878   \n",
       "14  Female   35             0              1          former  50.402553   \n",
       "15    Male   21             1              0         No Info  43.668778   \n",
       "16  Female   42             1              0         No Info  15.243161   \n",
       "17  Female   77             0              1            ever  29.554727   \n",
       "18  Female   31             1              1     not current  69.220751   \n",
       "19    Male   67             0              0           never  27.092399   \n",
       "20  Female   75             1              0            ever  21.128377   \n",
       "21    Male   26             0              1     not current  42.835524   \n",
       "22  Female   43             0              1          former  74.095979   \n",
       "23  Female   70             1              1          former  27.249482   \n",
       "24  Female   19             1              0          former  54.344539   \n",
       "25  Female   37             0              0          former  59.982036   \n",
       "26  Female   45             1              0          former  26.971165   \n",
       "27  Female   64             1              0     not current  57.877630   \n",
       "28  Female   77             1              0     not current  35.170337   \n",
       "29  Female   24             0              0         current  51.835267   \n",
       "30    Male   61             0              1         No Info  51.912372   \n",
       "31    Male   78             0              0          former  45.753805   \n",
       "32  Female   25             0              0           never  17.688256   \n",
       "33  Female   64             0              0     not current  64.624057   \n",
       "34  Female   52             0              1           never  32.209144   \n",
       "35    Male   31             0              0           never  23.750666   \n",
       "36  Female   34             0              0           never  14.568834   \n",
       "37    Male   53             0              1         current  49.226255   \n",
       "38    Male   67             1              0     not current  54.686555   \n",
       "39    Male   57             0              0           never  13.045033   \n",
       "40    Male   21             1              0          former  44.261863   \n",
       "41    Male   19             1              0            ever  26.269234   \n",
       "42  Female   79             1              0           never  52.645886   \n",
       "43  Female   23             0              1         current  22.985085   \n",
       "44  Female   71             0              1     not current  55.529078   \n",
       "45  Female   59             0              1         current  36.364327   \n",
       "46  Female   21             0              0           never  71.013989   \n",
       "47    Male   71             1              0     not current  20.663819   \n",
       "48  Female   46             0              0            ever  33.487180   \n",
       "49  Female   35             0              1           never  19.148832   \n",
       "\n",
       "    HbA1c_level  blood_glucose_level  diabetes  \n",
       "0      8.623468           173.842699       NaN  \n",
       "1      8.386697           158.653185       NaN  \n",
       "2      5.289708           105.143738       NaN  \n",
       "3      7.299920           200.041381       NaN  \n",
       "4      8.086111           120.539025       NaN  \n",
       "5      6.776004            74.376874       NaN  \n",
       "6      6.648253           186.185013       NaN  \n",
       "7      5.209261           101.879922       NaN  \n",
       "8      4.465514           239.282545       NaN  \n",
       "9      8.486079           241.707144       NaN  \n",
       "10     8.502090           234.675590       NaN  \n",
       "11     7.165507           136.628566       NaN  \n",
       "12     5.695149            72.782191       NaN  \n",
       "13     5.746048           237.097341       NaN  \n",
       "14     7.629778           147.073147       NaN  \n",
       "15     8.485551           243.997867       NaN  \n",
       "16     8.435432           243.451596       NaN  \n",
       "17     7.899378           223.541702       NaN  \n",
       "18     7.210158           123.000801       NaN  \n",
       "19     4.420700           139.317591       NaN  \n",
       "20     4.808144           223.204601       NaN  \n",
       "21     8.492771           127.045961       NaN  \n",
       "22     7.032145           100.508694       NaN  \n",
       "23     4.045985           170.224227       NaN  \n",
       "24     4.507358           238.507859       NaN  \n",
       "25     7.317509           195.285363       NaN  \n",
       "26     4.025308           172.611011       NaN  \n",
       "27     4.804040            87.491769       NaN  \n",
       "28     6.743669           180.701301       NaN  \n",
       "29     7.459476           248.209693       NaN  \n",
       "30     7.259806            95.215123       NaN  \n",
       "31     5.121347           163.299337       NaN  \n",
       "32     7.560896           227.927153       NaN  \n",
       "33     5.186245           203.338351       NaN  \n",
       "34     5.626998           195.462833       NaN  \n",
       "35     7.732457           196.447135       NaN  \n",
       "36     7.248164           134.708407       NaN  \n",
       "37     8.246117           122.846532       NaN  \n",
       "38     7.288064           215.685008       NaN  \n",
       "39     6.841543           215.820411       NaN  \n",
       "40     4.468374           226.073017       NaN  \n",
       "41     5.838579           234.383299       NaN  \n",
       "42     5.326012           162.041632       NaN  \n",
       "43     5.219948           160.272933       NaN  \n",
       "44     8.865053           213.693132       NaN  \n",
       "45     5.965489           186.993508       NaN  \n",
       "46     8.460233           196.354038       NaN  \n",
       "47     7.155693           213.242680       NaN  \n",
       "48     7.974057           230.200962       NaN  \n",
       "49     6.513185           130.839128       NaN  "
      ]
     },
     "execution_count": 34,
     "metadata": {},
     "output_type": "execute_result"
    }
   ],
   "source": [
    "test_df"
   ]
  },
  {
   "cell_type": "code",
   "execution_count": 41,
   "id": "e4392c44-4e06-4613-95ed-4761c35d8a36",
   "metadata": {},
   "outputs": [
    {
     "data": {
      "text/plain": [
       "['data/test.joblib']"
      ]
     },
     "execution_count": 41,
     "metadata": {},
     "output_type": "execute_result"
    }
   ],
   "source": [
    "jb.dump(test_df, \"data/test.joblib\")"
   ]
  },
  {
   "cell_type": "code",
   "execution_count": null,
   "id": "bf3476fa-d5f6-4ace-bfa6-a29577485e0f",
   "metadata": {},
   "outputs": [],
   "source": []
  }
 ],
 "metadata": {
  "kernelspec": {
   "display_name": "elf_env",
   "language": "python",
   "name": "elf_env"
  },
  "language_info": {
   "codemirror_mode": {
    "name": "ipython",
    "version": 3
   },
   "file_extension": ".py",
   "mimetype": "text/x-python",
   "name": "python",
   "nbconvert_exporter": "python",
   "pygments_lexer": "ipython3",
   "version": "3.11.7"
  }
 },
 "nbformat": 4,
 "nbformat_minor": 5
}
